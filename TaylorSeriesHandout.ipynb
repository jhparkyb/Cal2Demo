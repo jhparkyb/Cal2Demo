{
 "cells": [
  {
   "cell_type": "markdown",
   "metadata": {},
   "source": [
    "## Taylor Series"
   ]
  },
  {
   "cell_type": "markdown",
   "metadata": {},
   "source": [
    "### Take-away\n",
    "\n",
    "After this class, we will be able to\n",
    "- find Taylor series of a given function\n",
    "  - by deriving Taylor expansion,\n",
    "  - by using formula of Taylor coefficients,\n",
    "  - by directly using known Taylor series,\n",
    "  - by differentiating or integrating known Taylor series,\n",
    "- give radius of convergence of Taylor series\n",
    "  - by using ratio or root test,\n",
    "  - by using known Taylor series along with its radius of convergence."
   ]
  },
  {
   "cell_type": "markdown",
   "metadata": {},
   "source": [
    "___"
   ]
  },
  {
   "cell_type": "markdown",
   "metadata": {},
   "source": [
    "### Big picture: power series representation of functions"
   ]
  },
  {
   "cell_type": "markdown",
   "metadata": {},
   "source": [
    " **Idea**\n",
    "\n",
    "| | |\n",
    "|---|---|\n",
    "| ![portrait of Newton](https://upload.wikimedia.org/wikipedia/commons/f/f7/Portrait_of_Sir_Isaac_Newton%2C_1689_%28brightened%29.jpg) | Newton saw calculus as the algebraic analogue of arithmetic with infinite decimals, and he wrote in his Tractatus de Methodis Serierum et Fluxionum (1671; “Treatise on the Method of Series and Fluxions”): <br> <br> *I am amazed that it has occurred to no one (if you except N. Mercator and his quadrature of the hyperbola) to fit the doctrine recently established for decimal numbers to variables, especially since the way is then open to more striking consequences. For since this doctrine in species has the same relationship to Algebra that the doctrine of decimal numbers has to common Arithmetic, its operations of Addition, Subtraction, Multiplication, Division and Root extraction may be easily learnt from the latter’s.*  <br> <br> Refererence: [Britanica encyclopedia](https://www.britannica.com/topic/Newton-and-Infinite-Series-1368282) |\n",
    "| Paraphrase | \"Hey, 10-based number system works really great. Let's see functions as $x$-based system. *Any-number-based system* so to speak, huh?\" | \n",
    "\n",
    "<br> \n",
    "\n",
    "| | representation based on powers | want to know | possible |\n",
    "|---|---|---|---|\n",
    "| decimals | $$1.4142\\cdots=$$ <br> $$1\\cdot 1 + 4 \\cdot \\frac{1}{10} + 1 \\cdot (\\frac{1}{10})^2+ 4 \\cdot (\\frac{1}{10})^3 + 2 \\cdot (\\frac{1}{10})^4+\\cdots$$| $$\\sqrt{2}$$ | always |\n",
    "| functions | $$1+\\frac{1}{2} \\cdot x^2+\\frac{1 \\cdot 3}{2 \\cdot 4} \\cdot x^4+\\frac{1 \\cdot 3 \\cdot 5}{2 \\cdot 4 \\cdot 6} \\cdot x^6+\\cdots$$ <br> $$=1+0\\cdot x + \\frac{1}{2} \\cdot x^2+0\\cdot x^3 +\\frac{1 \\cdot 3}{2 \\cdot 4} \\cdot x^4 +0\\cdot x^5 +\\cdots$$ | $$\\frac{1}{\\sqrt{\\left(1-x^2\\right)}}$$| depends on $x$ <br> summary |"
   ]
  },
  {
   "cell_type": "markdown",
   "metadata": {},
   "source": [
    "||  |  |\n",
    "|---|---|---|\n",
    "| **Power series** |series $\\longrightarrow$ function | \n",
    "| **Taylor series** | function $\\longrightarrow$ series |"
   ]
  },
  {
   "cell_type": "markdown",
   "metadata": {},
   "source": [
    "___"
   ]
  },
  {
   "cell_type": "markdown",
   "metadata": {},
   "source": [
    "### Key summary"
   ]
  },
  {
   "cell_type": "markdown",
   "metadata": {},
   "source": [
    "**Theorem** (Taylor series)\n",
    "\n",
    "If $f$ has a power series representation (expansion) at $x=a$, that is, if\n",
    "\n",
    "$$\n",
    "f(x)=\\sum_{n=0}^{\\infty} c_n(x-a)^n \\quad|x-a|<R\n",
    "$$\n",
    "\n",
    "then its coefficients are given by the formula\n",
    "\n",
    "$$\n",
    "c_n=\\frac{f^{(n)}(a)}{n !}.\n",
    "$$"
   ]
  },
  {
   "cell_type": "markdown",
   "metadata": {},
   "source": [
    "**Definition** (Taylor series)\n",
    "\n",
    "The power series appearing in the above theorem is called *Taylor seires* of $f(x)$ around $x=a$. "
   ]
  },
  {
   "cell_type": "markdown",
   "metadata": {},
   "source": [
    "If we plug in $c_n$'s, we have another form of *Taylor series*\n",
    "\n",
    "$$\n",
    "\\begin{aligned}\n",
    "f(x) & =\\sum_{n=0}^{\\infty} \\frac{f^{(n)}(a)}{n !}(x-a)^n \\\\\n",
    "& =f(a)+\\frac{f^{\\prime}(a)}{1 !}(x-a)+\\frac{f^{\\prime \\prime}(a)}{2 !}(x-a)^2+\\frac{f^{\\prime \\prime \\prime}(a)}{3 !}(x-a)^3+\\cdots.\n",
    "\\end{aligned}\n",
    "$$"
   ]
  },
  {
   "cell_type": "markdown",
   "metadata": {},
   "source": [
    "**Terminology** (Taylor polynomial)\n",
    "\n",
    "The first few terms in the Taylor series is called *Taylor polynomial*. To be more specific, give \n",
    "\n",
    "$$\n",
    "f(x)=c_0 + c_1 (x - a) + c_2 (x - a)^2+\\cdots,\n",
    "$$ \n",
    "\n",
    "$k$-*th Taylor polynomial* or the *Taylor polynomail of order* $k$, denoted by $T_k(x)$, are\n",
    "\n",
    "$$\n",
    "\\begin{aligned}\n",
    "T_0(x) & = c_0 \\\\\n",
    "T_1(x) & = c_0 + c_1 (x - a) \\\\\n",
    "T_2(x) & = c_0 + c_1 (x - a) + c_2 (x - a)^2 \\\\\n",
    "        & \\vdots \\\\\n",
    "T_k(x) & =c_0 + c_1 (x - a) + \\cdots + c_k  (x - a)^k .\n",
    "\\end{aligned}\n",
    "$$\n"
   ]
  },
  {
   "cell_type": "markdown",
   "metadata": {},
   "source": [
    "**Terminology** (Maclaurin series)\n",
    "\n",
    "If the function $f$ is expanded around $x=0$, that is,\n",
    "\n",
    "$$\n",
    "\\begin{aligned}\n",
    "f(x)&=\\sum_{n=0}^{\\infty} \\frac{f^{(n)}(0)}{n !} x^n \\\\\n",
    "&=f(0)+\\frac{f^{\\prime}(0)}{1 !} x+\\frac{f^{\\prime \\prime}(0)}{2 !} x^2+\\cdots\n",
    "\\end{aligned}\n",
    "$$\n",
    "\n",
    "we call it *Maclaurin series*."
   ]
  },
  {
   "cell_type": "markdown",
   "metadata": {},
   "source": [
    "**Remark**\n",
    "\n",
    "- In practice, many people just say Taylor series rather than distinguish Maclaurin series very strickly."
   ]
  },
  {
   "cell_type": "markdown",
   "metadata": {},
   "source": [
    "___"
   ]
  },
  {
   "cell_type": "markdown",
   "metadata": {},
   "source": [
    "**Remark** (Relation between power, Taylor, and Maclaurin series)\n",
    "\n",
    "![Relation between power, Taylor, and Maclaurin series](./images/diag_RelationPowerTaylorMaclaurin_lp1000.png)"
   ]
  },
  {
   "cell_type": "markdown",
   "metadata": {},
   "source": [
    "<!-- **Motivating question**: How can we figure out the right partial sums? -->"
   ]
  },
  {
   "cell_type": "markdown",
   "metadata": {},
   "source": [
    "___"
   ]
  },
  {
   "cell_type": "markdown",
   "metadata": {},
   "source": [
    "**Remark** (Geometric understanding of Taylor series)\n",
    "\n",
    "![Power series as a function approximation](https://suzyahyah.github.io/assets/Calculus-taylor.png)\n",
    "\n",
    "[Interactive Geogebra by Guillermo Bautista: $e^x$](https://www.geogebra.org/m/u25naf28)\n",
    "\n",
    "<!-- [Interactive Geogebra by matheagle: $ln(1 + x^2) + sin(3x)$](https://www.geogebra.org/m/YtnuMjEF)\n",
    "\n",
    "Geogebra activity suggestion\n",
    "- Type in a simple function such as $e^x$, $1/(1-x)$, $\\sin(x)$, etc.\n",
    "- Move the slide bar to vary $n$.  -->\n",
    "\n",
    "In words,\n",
    "\n",
    "- Partial sums behave more and more similarly to the specific function, in this case $e^x$: \n",
    "    - $1$, \n",
    "    - $1+x$, \n",
    "    - $1+x+\\frac{x^2}{2!}$, \n",
    "    - $1+x+\\frac{x^2}{2!}+\\frac{x^3}{3!}$, \n",
    "    - $\\vdots$\n",
    "- We can imagine that if we add infinitely many of them, that will behave exactly the same as $e^x$.\n",
    "<!-- - A power series can be seen as a function as an (infinite) sum of functions -> a function anyway. (just like sum of lengths is again a length.) -->\n"
   ]
  },
  {
   "cell_type": "markdown",
   "metadata": {},
   "source": [
    "___"
   ]
  },
  {
   "cell_type": "markdown",
   "metadata": {},
   "source": [
    "### Appendix"
   ]
  },
  {
   "cell_type": "markdown",
   "metadata": {},
   "source": [
    "###### Power series theorem"
   ]
  },
  {
   "cell_type": "markdown",
   "metadata": {},
   "source": [
    "**Theorem** (Power series theorem)\n",
    "\n",
    "If the power series $\\sum_{n=0}^{\\infty} c_n (x-a)^{n}$ has radius of convergence $R > 0$, then the function $f$ defined by\n",
    "\n",
    "$$\n",
    "f(x)=c_0+c_1(x-a)+c_2(x-a)^2+\\cdots=\\sum_{n=0}^{\\infty} c_n(x-a)^n\n",
    "$$\n",
    "\n",
    "is differentiable, and therefore continuous, on the interval $(a-R, a+R)$ and \n",
    "\n",
    "$$\n",
    "\\begin{aligned}\n",
    "f^{\\prime}(x)&=c_1 +2 c_2(x-a)+3 c_3(x-a)^2+\\cdots=\\sum_{n=1}^{\\infty} n c_n(x-a)^{n-1} \\\\\n",
    "\\int f(x) d x & =C+c_0(x-a)+c_1 \\frac{(x-a)^2}{2}+c_2 \\frac{(x-a)^3}{3}+\\cdots \\\\\n",
    "& =C+\\sum_{n=0}^{\\infty} c_n \\frac{(x-a)^{n+1}}{n+1}.\n",
    "\\end{aligned}\n",
    "$$\n",
    "\n",
    "The radii of convergence of the power series in these equations are both $R$."
   ]
  }
 ],
 "metadata": {
  "kernelspec": {
   "display_name": "ptrch",
   "language": "python",
   "name": "ptrch"
  },
  "language_info": {
   "codemirror_mode": {
    "name": "ipython",
    "version": 3
   },
   "file_extension": ".py",
   "mimetype": "text/x-python",
   "name": "python",
   "nbconvert_exporter": "python",
   "pygments_lexer": "ipython3",
   "version": "3.9.1"
  }
 },
 "nbformat": 4,
 "nbformat_minor": 2
}
