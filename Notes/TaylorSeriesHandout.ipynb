{
 "cells": [
  {
   "cell_type": "markdown",
   "metadata": {},
   "source": [
    "___"
   ]
  },
  {
   "cell_type": "markdown",
   "metadata": {},
   "source": [
    "## Taylor Series - Summary"
   ]
  },
  {
   "cell_type": "markdown",
   "metadata": {},
   "source": [
    "___"
   ]
  },
  {
   "cell_type": "markdown",
   "metadata": {},
   "source": [
    "### Big picture: power series representation of functions"
   ]
  },
  {
   "cell_type": "markdown",
   "metadata": {},
   "source": [
    "1. Representing a function as a power series\n",
    "\n",
    "||  |\n",
    "|---|:---:|\n",
    "| **Power series** | $$\\begin{split}\\text{series} &\\longrightarrow \\text{function} \\\\ \\sum_{n=0}^{\\infty} \\frac{1}{n!}x^n &\\longrightarrow \\text{function of x}\\end{split}$$ | \n",
    "| **Taylor series** | $$\\begin{split}\\text{function} &\\longrightarrow \\text{series} \\\\ e^x &\\longrightarrow \\sum_{n=0}^{\\infty} c_n x^n \\end{split} $$ |"
   ]
  },
  {
   "cell_type": "markdown",
   "metadata": {},
   "source": [
    "2. Approximating a function with polynomail. (See below)"
   ]
  },
  {
   "cell_type": "markdown",
   "metadata": {},
   "source": [
    "**Remark** (Geometric understanding of Taylor series)\n",
    "\n",
    "![Power series as a function approximation](https://suzyahyah.github.io/assets/Calculus-taylor.png)\n",
    "\n",
    "[Interactive Geogebra by Guillermo Bautista: $e^x$](https://www.geogebra.org/m/u25naf28)\n",
    "\n",
    "<!-- [Interactive Geogebra by matheagle: $ln(1 + x^2) + sin(3x)$](https://www.geogebra.org/m/YtnuMjEF)\n",
    "\n",
    "Geogebra activity suggestion\n",
    "- Type in a simple function such as $e^x$, $1/(1-x)$, $\\sin(x)$, etc.\n",
    "- Move the slide bar to vary $n$.  -->\n"
   ]
  },
  {
   "cell_type": "markdown",
   "metadata": {},
   "source": [
    "___"
   ]
  },
  {
   "cell_type": "markdown",
   "metadata": {},
   "source": [
    "### Definitions and terminology"
   ]
  },
  {
   "cell_type": "markdown",
   "metadata": {},
   "source": [
    "**Theorem** (Taylor series)\n",
    "\n",
    "If $f$ has a power series representation (expansion) at $x=a$, that is, if\n",
    "\n",
    "$$\n",
    "f(x)=\\sum_{n=0}^{\\infty} c_n(x-a)^n \\quad \\text{for} \\quad |x-a|<R\n",
    "$$\n",
    "\n",
    "then its coefficients are given by the formula\n",
    "\n",
    "$$\n",
    "c_n=\\frac{f^{(n)}(a)}{n !}.\n",
    "$$"
   ]
  },
  {
   "cell_type": "markdown",
   "metadata": {},
   "source": [
    "**Definition** (Taylor series)\n",
    "\n",
    "The power series appearing in the above theorem is called *Taylor seires* of $f(x)$ around $x=a$. "
   ]
  },
  {
   "cell_type": "markdown",
   "metadata": {},
   "source": [
    "If we plug in $c_n$'s, we have another form of *Taylor series*\n",
    "\n",
    "$$\n",
    "\\begin{aligned}\n",
    "f(x) & =\\sum_{n=0}^{\\infty} \\frac{f^{(n)}(a)}{n !}(x-a)^n \\\\\n",
    "& =f(a)+\\frac{f^{\\prime}(a)}{1 !}(x-a)+\\frac{f^{\\prime \\prime}(a)}{2 !}(x-a)^2+\\frac{f^{\\prime \\prime \\prime}(a)}{3 !}(x-a)^3+\\cdots.\n",
    "\\end{aligned}\n",
    "$$"
   ]
  },
  {
   "cell_type": "markdown",
   "metadata": {},
   "source": [
    "**Terminology** (Maclaurin series)\n",
    "\n",
    "If the function $f$ is expanded around $x=0$, that is,\n",
    "\n",
    "$$\n",
    "\\begin{aligned}\n",
    "f(x)&=\\sum_{n=0}^{\\infty} \\frac{f^{(n)}(0)}{n !} x^n \\\\\n",
    "&=f(0)+\\frac{f^{\\prime}(0)}{1 !} x+\\frac{f^{\\prime \\prime}(0)}{2 !} x^2+\\cdots\n",
    "\\end{aligned}\n",
    "$$\n",
    "\n",
    "we call it *Maclaurin series*."
   ]
  },
  {
   "cell_type": "markdown",
   "metadata": {},
   "source": [
    "**Terminology** (Taylor polynomial)\n",
    "\n",
    "The first few terms in the Taylor series is called *Taylor polynomial*. To be more specific, give \n",
    "\n",
    "$$\n",
    "f(x)=c_0 + c_1 (x - a) + c_2 (x - a)^2+\\cdots,\n",
    "$$ \n",
    "\n",
    "$k$-*th Taylor polynomial* or the *Taylor polynomail of order* $k$, denoted by $T_k(x)$, are\n",
    "\n",
    "$$\n",
    "\\begin{aligned}\n",
    "T_0(x) & = c_0 \\\\\n",
    "T_1(x) & = c_0 + c_1 (x - a) \\\\\n",
    "T_2(x) & = c_0 + c_1 (x - a) + c_2 (x - a)^2 \\\\\n",
    "        & \\vdots \\\\\n",
    "T_k(x) & =c_0 + c_1 (x - a) + \\cdots + c_k  (x - a)^k .\n",
    "\\end{aligned}\n",
    "$$\n"
   ]
  },
  {
   "cell_type": "markdown",
   "metadata": {},
   "source": [
    "**Remark**\n",
    "\n",
    "- In practice, many people just say Taylor series rather than distinguish Maclaurin series very strickly."
   ]
  },
  {
   "cell_type": "markdown",
   "metadata": {},
   "source": [
    "**Remark** (Relation between power, Taylor, and Maclaurin series)\n",
    "\n",
    "![Relation between power, Taylor, and Maclaurin series](../images/diag_RelationPowerTaylorMaclaurin_lp1000.png)"
   ]
  },
  {
   "cell_type": "markdown",
   "metadata": {},
   "source": [
    "___"
   ]
  },
  {
   "cell_type": "markdown",
   "metadata": {},
   "source": [
    "## Power Series - Summary"
   ]
  },
  {
   "cell_type": "markdown",
   "metadata": {},
   "source": [
    "___"
   ]
  },
  {
   "cell_type": "markdown",
   "metadata": {},
   "source": [
    "### Big picture: function version of decimals"
   ]
  },
  {
   "cell_type": "markdown",
   "metadata": {},
   "source": [
    " **Idea**\n",
    "\n",
    "| | |\n",
    "|---|---|\n",
    "| ![portrait of Newton](https://upload.wikimedia.org/wikipedia/commons/f/f7/Portrait_of_Sir_Isaac_Newton%2C_1689_%28brightened%29.jpg) | Newton saw calculus as the algebraic analogue of arithmetic with infinite decimals, and he wrote in his Tractatus de Methodis Serierum et Fluxionum (1671; “Treatise on the Method of Series and Fluxions”): <br> <br> *I am amazed that it has occurred to no one (if you except N. Mercator and his quadrature of the hyperbola) to fit the doctrine recently established for decimal numbers to variables, especially since the way is then open to more striking consequences. For since this doctrine in species has the same relationship to Algebra that the doctrine of decimal numbers has to common Arithmetic, its operations of Addition, Subtraction, Multiplication, Division and Root extraction may be easily learnt from the latter’s.*  <br> <br> Refererence: [Britanica encyclopedia](https://www.britannica.com/topic/Newton-and-Infinite-Series-1368282) |\n",
    "| Paraphrase | \"Hey, 10-based number system works really great. Let's see functions as $x$-based system. *Any-number-based system* so to speak, huh?\" | \n",
    "\n",
    "<br> \n",
    "\n",
    "| | representation based on powers | want to know | possible |\n",
    "|---|---|---|---|\n",
    "| decimals | $$1.4142\\cdots=$$ <br> $$1\\cdot 1 + 4 \\cdot \\frac{1}{10} + 1 \\cdot (\\frac{1}{10})^2+ 4 \\cdot (\\frac{1}{10})^3 + 2 \\cdot (\\frac{1}{10})^4+\\cdots$$| $$\\sqrt{2}$$ | always |\n",
    "| functions | $$1+\\frac{1}{2} \\cdot x^2+\\frac{1 \\cdot 3}{2 \\cdot 4} \\cdot x^4+\\frac{1 \\cdot 3 \\cdot 5}{2 \\cdot 4 \\cdot 6} \\cdot x^6+\\cdots$$ <br> $$=1+0\\cdot x + \\frac{1}{2} \\cdot x^2+0\\cdot x^3 +\\frac{1 \\cdot 3}{2 \\cdot 4} \\cdot x^4 +0\\cdot x^5 +\\cdots$$ | $$\\frac{1}{\\sqrt{\\left(1-x^2\\right)}}$$| depends on $x$ <br> (radius of <br> convergence)|"
   ]
  },
  {
   "cell_type": "markdown",
   "metadata": {},
   "source": [
    "___"
   ]
  },
  {
   "cell_type": "markdown",
   "metadata": {},
   "source": [
    "#### Key summary"
   ]
  },
  {
   "cell_type": "markdown",
   "metadata": {},
   "source": [
    "> **Fact 1** \n",
    ">\n",
    "> A power series is a function."
   ]
  },
  {
   "cell_type": "markdown",
   "metadata": {},
   "source": [
    "> **Fact 2**\n",
    ">\n",
    "> To each power series $\\sum_{n=0}^\\infty c_n (x-a)^n$ is associated a number $R$, the *raduis ofconvergence*, and the only one of the following is true:\n",
    "> 1. $R=0$ \n",
    ">       - the series has finite value only when $x=a$ and diverges for all other values.\n",
    "> 1. $0 < R < \\infty$ \n",
    ">       - the series converges if $-R < x < R$,\n",
    ">       - diverges if $x > R$ or $x < -R$,\n",
    ">       - converges or diverges at $x = R$ and $x = -R$ (depends on $a_n$'s).\n",
    "> 1. $R = \\infty$ \n",
    ">       - the series converges for all $x \\in \\mathbb{R}$."
   ]
  },
  {
   "cell_type": "markdown",
   "metadata": {},
   "source": [
    "![figure: radius of convergence](../images/fig_RadiusConv.png)"
   ]
  },
  {
   "cell_type": "markdown",
   "metadata": {},
   "source": [
    "___"
   ]
  },
  {
   "cell_type": "markdown",
   "metadata": {},
   "source": [
    "### Term by term integration/differentiation (Power series theorem)"
   ]
  },
  {
   "cell_type": "markdown",
   "metadata": {},
   "source": [
    "**Theorem** (Power series theorem)\n",
    "\n",
    "If the power series $\\sum_{n=0}^{\\infty} c_n (x-a)^{n}$ has radius of convergence $R > 0$, then the function $f$ defined by\n",
    "\n",
    "$$\n",
    "f(x)=c_0+c_1(x-a)+c_2(x-a)^2+\\cdots=\\sum_{n=0}^{\\infty} c_n(x-a)^n\n",
    "$$\n",
    "\n",
    "is differentiable, and therefore continuous, on the interval $(a-R, a+R)$ and \n",
    "\n",
    "$$\n",
    "\\begin{aligned}\n",
    "f^{\\prime}(x)&=c_1 +2 c_2(x-a)+3 c_3(x-a)^2+\\cdots=\\sum_{n=1}^{\\infty} n c_n(x-a)^{n-1} \\\\\n",
    "\\int f(x) d x & =C+c_0(x-a)+c_1 \\frac{(x-a)^2}{2}+c_2 \\frac{(x-a)^3}{3}+\\cdots \\\\\n",
    "& =C+\\sum_{n=0}^{\\infty} c_n \\frac{(x-a)^{n+1}}{n+1}.\n",
    "\\end{aligned}\n",
    "$$\n",
    "\n",
    "The radii of convergence of the power series in these equations are both $R$."
   ]
  },
  {
   "cell_type": "markdown",
   "metadata": {},
   "source": [
    "**Remark** (term by term integration and differentiation)\n",
    "\n",
    "The equations in the previous theorem can be written as interchanging differentiation/integral with summation.\n",
    "\n",
    "$$\n",
    "\\begin{aligned}\n",
    "\\frac{d}{d x}\\left[\\sum_{n=0}^{\\infty} c_n(x-a)^n\\right] &=\\sum_{n=0}^{\\infty} \\frac{d}{d x}\\left[c_n(x-a)^n\\right] \\\\\n",
    "\\int\\left[\\sum_{n=0}^{\\infty} c_n(x-a)^n\\right] d x &=\\sum_{n=0}^{\\infty} \\int c_n(x-a)^n d x\n",
    "\\end{aligned}\n",
    "$$"
   ]
  }
 ],
 "metadata": {
  "kernelspec": {
   "display_name": "ptrch",
   "language": "python",
   "name": "ptrch"
  },
  "language_info": {
   "codemirror_mode": {
    "name": "ipython",
    "version": 3
   },
   "file_extension": ".py",
   "mimetype": "text/x-python",
   "name": "python",
   "nbconvert_exporter": "python",
   "pygments_lexer": "ipython3",
   "version": "3.9.1"
  }
 },
 "nbformat": 4,
 "nbformat_minor": 2
}
