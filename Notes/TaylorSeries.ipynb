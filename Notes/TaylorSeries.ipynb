{
 "cells": [
  {
   "cell_type": "markdown",
   "metadata": {},
   "source": [
    "**Announcement**\n",
    "\n",
    "**Feedback**\n",
    "\n",
    "**Quick review**"
   ]
  },
  {
   "cell_type": "markdown",
   "metadata": {},
   "source": [
    "## Taylor Series"
   ]
  },
  {
   "cell_type": "markdown",
   "metadata": {},
   "source": [
    "### Take-away\n"
   ]
  },
  {
   "cell_type": "markdown",
   "metadata": {},
   "source": [
    "\n",
    "After this class, we will be able to\n",
    "- find Taylor series of a given function\n",
    "  - by using formula of Taylor coefficients, \n",
    "  - by directly using known Taylor series, \n",
    "  - by differentiating or integrating known Taylor series, \n"
   ]
  },
  {
   "cell_type": "markdown",
   "metadata": {},
   "source": [
    "### Why do we care?\n"
   ]
  },
  {
   "cell_type": "markdown",
   "metadata": {},
   "source": [
    "| | |\n",
    "|---|---|\n",
    "| predict behavior of complicated functions | $e^{\\sin(x)}$ or $\\frac{e^{-x^2}-1+x^2}{x^3}$ |\n",
    "| Numerical analysis | ![Forward/Backward/Centered difference quotient](https://upload.wikimedia.org/wikipedia/commons/thumb/9/90/Finite_difference_method.svg/1920px-Finite_difference_method.svg.png) |\n",
    "| Approximation in modeling | ([pendulum](https://www.acs.psu.edu/drussell/Demos/Pendulum/Pendulum.html)) ![pendulum](http://www.acs.psu.edu/drussell/Demos/Pendulum/compare-small-angle.gif) |"
   ]
  },
  {
   "cell_type": "markdown",
   "metadata": {},
   "source": [
    "**Question** (Opening question)\n",
    "\n",
    "Which one would you choose to seek the sum of?\n",
    "\n",
    "$$\n",
    "\\begin{aligned}\n",
    "\\text{(A)} \\quad &\\sum_{n=0}^\\infty (-1)^n \\frac{\\pi^{2n+1}}{(2n+1)!} = \\pi - \\frac{\\pi^{3}}{3!} + \\frac{\\pi^{5}}{5!} - \\frac{\\pi^{7}}{7!}+ \\cdots \\\\\n",
    "\\text{(B)} \\quad &\\sum_{n=1}^\\infty \\frac{1}{n^3} = 1 + \\frac{1}{8} + \\frac{1}{27} + \\cdots\n",
    "\\end{aligned}\n",
    "$$"
   ]
  },
  {
   "cell_type": "markdown",
   "metadata": {},
   "source": [
    "### Big picture: power series representation of functions"
   ]
  },
  {
   "cell_type": "markdown",
   "metadata": {},
   "source": [
    "1. Representing a function as a power series\n",
    "\n",
    "||  |\n",
    "|---|:---:|\n",
    "| **Power series** | $$\\begin{split}\\text{series} &\\longrightarrow \\text{function} \\\\ \\sum_{n=0}^{\\infty} \\frac{1}{n!}x^n &\\longrightarrow \\text{function of x}\\end{split}$$ | \n",
    "| **Taylor series** | $$\\begin{split}\\text{function} &\\longrightarrow \\text{series} \\\\ e^x &\\longrightarrow \\sum_{n=0}^{\\infty} c_n x^n \\end{split} $$ |"
   ]
  },
  {
   "cell_type": "markdown",
   "metadata": {},
   "source": [
    "2. Approximating a function with polynomials. (See below)"
   ]
  },
  {
   "cell_type": "markdown",
   "metadata": {},
   "source": [
    "### Definitions and terminology"
   ]
  },
  {
   "cell_type": "markdown",
   "metadata": {},
   "source": [
    "**Theorem** (Taylor series)\n",
    "\n",
    "If $f$ has a power series representation (expansion) at $x=a$, that is, if\n",
    "\n",
    "$$\n",
    "f(x)=\\sum_{n=0}^{\\infty} c_n(x-a)^n \\quad \\text{for} \\quad |x-a|<R\n",
    "$$\n",
    "\n",
    "then its coefficients are given by the formula\n",
    "\n",
    "$$\n",
    "c_n=\\frac{f^{(n)}(a)}{n !}.\n",
    "$$"
   ]
  },
  {
   "cell_type": "markdown",
   "metadata": {},
   "source": [
    "**Definition** (Taylor series)\n",
    "\n",
    "The power series appearing in the above theorem is called *Taylor seires* of $f(x)$ around $x=a$. "
   ]
  },
  {
   "cell_type": "markdown",
   "metadata": {},
   "source": [
    "If we plug in $c_n$'s, we have another form of *Taylor series*\n",
    "\n",
    "$$\n",
    "\\begin{aligned}\n",
    "f(x) & =\\sum_{n=0}^{\\infty} \\frac{f^{(n)}(a)}{n !}(x-a)^n \\\\\n",
    "& =f(a)+\\frac{f^{\\prime}(a)}{1 !}(x-a)+\\frac{f^{\\prime \\prime}(a)}{2 !}(x-a)^2+\\frac{f^{\\prime \\prime \\prime}(a)}{3 !}(x-a)^3+\\cdots.\n",
    "\\end{aligned}\n",
    "$$"
   ]
  },
  {
   "cell_type": "markdown",
   "metadata": {},
   "source": [
    "**Terminology** (Maclaurin series)\n",
    "\n",
    "If the function $f$ is expanded around $x=0$, that is,\n",
    "\n",
    "$$\n",
    "\\begin{aligned}\n",
    "f(x)&=\\sum_{n=0}^{\\infty} \\frac{f^{(n)}(0)}{n !} x^n \\\\\n",
    "&=f(0)+\\frac{f^{\\prime}(0)}{1 !} x+\\frac{f^{\\prime \\prime}(0)}{2 !} x^2+\\cdots\n",
    "\\end{aligned}\n",
    "$$\n",
    "\n",
    "we call it *Maclaurin series*."
   ]
  },
  {
   "cell_type": "markdown",
   "metadata": {},
   "source": [
    "**Terminology** (Taylor polynomial)\n",
    "\n",
    "The first few terms in the Taylor series is called *Taylor polynomial*. To be more specific, give \n",
    "\n",
    "$$\n",
    "f(x)=c_0 + c_1 (x - a) + c_2 (x - a)^2+\\cdots,\n",
    "$$ \n",
    "\n",
    "$k$-*th Taylor polynomial* or the *Taylor polynomial of order* $k$, denoted by $T_k(x)$, are\n",
    "\n",
    "$$\n",
    "\\begin{aligned}\n",
    "T_0(x) & = c_0 \\\\\n",
    "T_1(x) & = c_0 + c_1 (x - a) \\\\\n",
    "T_2(x) & = c_0 + c_1 (x - a) + c_2 (x - a)^2 \\\\\n",
    "        & \\vdots \\\\\n",
    "T_k(x) & =c_0 + c_1 (x - a) + \\cdots + c_k  (x - a)^k .\n",
    "\\end{aligned}\n",
    "$$\n"
   ]
  },
  {
   "cell_type": "markdown",
   "metadata": {},
   "source": [
    "**Remark**\n",
    "\n",
    "- In practice, many people just say Taylor series rather than distinguish Maclaurin series very strickly."
   ]
  },
  {
   "cell_type": "markdown",
   "metadata": {},
   "source": [
    "**Remark** (Relation between power, Taylor, and Maclaurin series)\n",
    "\n",
    "![Relation between power, Taylor, and Maclaurin series](../images/diag_RelationPowerTaylorMaclaurin_lp1000.png)"
   ]
  },
  {
   "cell_type": "markdown",
   "metadata": {},
   "source": [
    "<!-- **Motivating question**: How can we figure out the right partial sums? -->"
   ]
  },
  {
   "cell_type": "markdown",
   "metadata": {},
   "source": [
    "### Finding Taylor series 1: Formula/Re-derive"
   ]
  },
  {
   "cell_type": "markdown",
   "metadata": {},
   "source": [
    "#### Key summary\n"
   ]
  },
  {
   "cell_type": "markdown",
   "metadata": {},
   "source": [
    "\n",
    "- Use the formula $\\frac{f^{(n)}(a)}{n !}$\n",
    "- Or, we can derive it.\n"
   ]
  },
  {
   "cell_type": "markdown",
   "metadata": {},
   "source": [
    "#### Details\n"
   ]
  },
  {
   "cell_type": "markdown",
   "metadata": {},
   "source": [
    "##### Examples"
   ]
  },
  {
   "cell_type": "markdown",
   "metadata": {},
   "source": [
    "**Example** (Taylor series by deriving the formula)\n",
    "\n",
    "It is known that $f(x)=e^x$ has power series representation. Find its Taylor series around $x=0$."
   ]
  },
  {
   "cell_type": "markdown",
   "metadata": {},
   "source": [
    "[Example: Finding Taylor series with minimal knowledge (derivation)](../images/ex_Cal2_TaylorExpansionExpFromScratch_lp2000.png)"
   ]
  },
  {
   "cell_type": "markdown",
   "metadata": {},
   "source": [
    "**Example** (Taylor series using formula)\n",
    "\n",
    "Find the Maclaurin series of $f(x)=\\sin(x)$ using the Taylor coefficient formula. (Assume that we know it has a power series representation Taylor series)."
   ]
  },
  {
   "cell_type": "markdown",
   "metadata": {},
   "source": [
    "[Example: Finding Taylor series (formula)](../images/ex_Cal2_TaylorExpansionSineUsingFormula_lp2000.png)"
   ]
  },
  {
   "cell_type": "markdown",
   "metadata": {},
   "source": [
    "**Example** (Taylor series using formula)\n",
    "\n",
    "Find the Maclaurin series of $f(x)=\\cos(x)$ using the Taylor coefficient formula. (Assume that we know it has a power series representation Taylor series)."
   ]
  },
  {
   "cell_type": "markdown",
   "metadata": {},
   "source": [
    "[Example: Finding Taylor series (formula) - cosine](../images/ex_Cal2_TaylorExpansionCosineUsingFormula_lp2000.png)"
   ]
  },
  {
   "cell_type": "markdown",
   "metadata": {},
   "source": [
    "**Question**\n",
    "\n",
    "Which one would you choose to seek the sum of?\n",
    "\n",
    "$$\n",
    "\\begin{aligned}\n",
    "\\text{(A)} \\quad &\\sum_{n=0}^\\infty (-1)^n \\frac{\\pi^{2n+1}}{(2n+1)!} = \\pi - \\frac{\\pi^{3}}{3!} + \\frac{\\pi^{5}}{5!} - \\frac{\\pi^{7}}{7!}+ \\cdots \\\\\n",
    "\\text{(B)} \\quad &\\sum_{n=1}^\\infty \\frac{1}{n^3} = 1 + \\frac{1}{8} + \\frac{1}{27} + \\cdots\n",
    "\\end{aligned}\n",
    "$$\n",
    "\n",
    "> (Reminder) This is **about atmosphere**, not getting it right.\n",
    "> \n",
    "> 1. Think for a short time.\n",
    "> 2. Share your guess with your pair.\n",
    "> 4. Feel free to say out loud."
   ]
  },
  {
   "cell_type": "markdown",
   "metadata": {},
   "source": [
    "### Geometric interpretation: Approximating by polynomials"
   ]
  },
  {
   "cell_type": "markdown",
   "metadata": {},
   "source": [
    "**Remark** (Geometric understanding of Taylor series)\n",
    "\n",
    "![Power series as a function approximation](https://suzyahyah.github.io/assets/Calculus-taylor.png)\n",
    "\n",
    "[Interactive Geogebra by Guillermo Bautista: $e^x$](https://www.geogebra.org/m/u25naf28)\n",
    "\n",
    "<!-- [Interactive Geogebra by matheagle: $ln(1 + x^2) + sin(3x)$](https://www.geogebra.org/m/YtnuMjEF)\n",
    "\n",
    "Geogebra activity suggestion\n",
    "- Type in a simple function such as $e^x$, $1/(1-x)$, $\\sin(x)$, etc.\n",
    "- Move the slide bar to vary $n$.  -->\n"
   ]
  },
  {
   "cell_type": "markdown",
   "metadata": {},
   "source": [
    "\n",
    "In words,\n",
    "\n",
    "- Partial sums behave more and more similarly to the specific function, in this case $e^x$: \n",
    "    - $1$, \n",
    "    - $1+x$, \n",
    "    - $1+x+\\frac{x^2}{2!}$, \n",
    "    - $1+x+\\frac{x^2}{2!}+\\frac{x^3}{3!}$, \n",
    "    - $\\vdots$\n",
    "- We can imagine that if we add infinitely many of them, that will behave exactly the same as $e^x$.\n",
    "<!-- - A power series can be seen as a function as an (infinite) sum of functions -> a function anyway. (just like sum of lengths is again a length.) -->\n"
   ]
  },
  {
   "cell_type": "markdown",
   "metadata": {},
   "source": [
    "### Finding Taylor series 2: Using known series"
   ]
  },
  {
   "cell_type": "markdown",
   "metadata": {},
   "source": [
    "#### Key summary"
   ]
  },
  {
   "cell_type": "markdown",
   "metadata": {},
   "source": [
    "\n",
    "- Sometimes, we can find Taylor series quickly using known ones."
   ]
  },
  {
   "cell_type": "markdown",
   "metadata": {},
   "source": [
    "#### Details"
   ]
  },
  {
   "cell_type": "markdown",
   "metadata": {},
   "source": [
    "##### Examples"
   ]
  },
  {
   "cell_type": "markdown",
   "metadata": {},
   "source": [
    "**Example** (Using known Taylor series)\n",
    "\n",
    "Find the Taylor series of the following around $x=0$:\n",
    "\n",
    "$$\n",
    "f(x) = \\frac{1}{1+x^2}.\n",
    "$$"
   ]
  },
  {
   "cell_type": "markdown",
   "metadata": {},
   "source": [
    "[Example: Finding Taylor series using known series 1](../images/ex_Cal2_TaylorSeriesUsingKnownSeries1_lp2000.png)"
   ]
  },
  {
   "cell_type": "markdown",
   "metadata": {},
   "source": [
    "**Example** (Leveraging known Taylor series)\n",
    "\n",
    "Find the Taylor series of the following around $x=0$:\n",
    "\n",
    "$$\n",
    "g(x) = e^{-x^2}\n",
    "$$"
   ]
  },
  {
   "cell_type": "markdown",
   "metadata": {},
   "source": [
    "[Example: Finding Taylor series using known series 2](../images/ex_Cal2_TaylorSeriesUsingKnownSeries2_lp2000.png)"
   ]
  },
  {
   "cell_type": "markdown",
   "metadata": {},
   "source": [
    "**Remark** (Wisdom)\n",
    "\n",
    "- From the geometric point of view, we see that Taylor series is a good example of reducing *wild* objects to simpler ones."
   ]
  },
  {
   "cell_type": "markdown",
   "metadata": {},
   "source": [
    "**Question** \n",
    "\n",
    "Share some other examples where we reduce complicated one to simpler ones. \n",
    "\n",
    "> (Reminder) This is **about atmosphere**, not getting it right.\n",
    "> \n",
    "> 1. Think for a short time.\n",
    "> 2. Share your guess with your pair.\n",
    "> 4. Feel free to say out loud."
   ]
  },
  {
   "cell_type": "markdown",
   "metadata": {},
   "source": [
    "### Way 3: Differentiating/Integrating known series"
   ]
  },
  {
   "cell_type": "markdown",
   "metadata": {},
   "source": [
    "#### Key summary\n"
   ]
  },
  {
   "cell_type": "markdown",
   "metadata": {},
   "source": [
    "\n",
    "- We can find more Taylor series by differentiating or integrating known series."
   ]
  },
  {
   "cell_type": "markdown",
   "metadata": {},
   "source": [
    "#### Details"
   ]
  },
  {
   "cell_type": "markdown",
   "metadata": {},
   "source": [
    "**Example** (Taylor series using term by term integration)\n",
    "\n",
    "Find the Maclaurin series of $\\tan^{-1}(x)$ by following the steps below.\n",
    "\n",
    "1. [Done] Find power series of $\\frac{1}{1+x^2}$ using Way 2 (Using known series). \n",
    "2. [Done] Integrate both sides term by term. \n",
    "3. Recall $\\tan^{-1}(x) + C = \\int \\frac{1}{1+x^2} dx$ from integral techniques (trigonometric substitution). \n",
    "4. Show, in this example, $C=0$ by plugging in $x=0$ in the power series.\n"
   ]
  },
  {
   "cell_type": "markdown",
   "metadata": {},
   "source": [
    "**Example** (Bonus: computing $\\pi$)\n",
    "\n",
    "5. Plug in $x=1$ and use $\\tan^{-1}(1)=\\pi/4$ (or equivalently $\\tan(\\pi/4)=1$)."
   ]
  },
  {
   "cell_type": "markdown",
   "metadata": {},
   "source": [
    "[Example: Finding Taylor series using Differentiation](../images/ex_Cal2_TaylorSeriesUsingIntegrationArctan_lp2000.png)"
   ]
  },
  {
   "cell_type": "markdown",
   "metadata": {},
   "source": [
    "##### Computation example"
   ]
  },
  {
   "cell_type": "code",
   "execution_count": 1,
   "metadata": {},
   "outputs": [],
   "source": [
    "#%% import packages\n",
    "import numpy as np\n",
    "from scipy.special import factorial\n",
    "import matplotlib.pyplot as plt\n",
    "import pandas as pd\n",
    "\n",
    "plt.rcParams.update({'font.size': 18})\n",
    "\n",
    "#%% functions\n",
    "def psum(x, N, c, a):\n",
    "    \"\"\"Return the partial sum of the series at x up to N terms.\n",
    "    \n",
    "    Input:\n",
    "        x: float, point at which to evaluate the series\n",
    "        N: int, number of terms to use in the partial sum\n",
    "        c: function, function that returns the nth coefficient\n",
    "        a: float, center of the power series\n",
    "    \"\"\"\n",
    "\n",
    "    n = np.arange(0, N+1, dtype=np.int64)\n",
    "    cn = c(n, a)\n",
    "    xn = (x-a)**n\n",
    "    return np.sum(cn * xn)\n"
   ]
  },
  {
   "cell_type": "code",
   "execution_count": 2,
   "metadata": {},
   "outputs": [],
   "source": [
    "\"\"\"\n",
    "sum c(n, a)*(x-a)^n, where\n",
    "c(n, a) = f^(n)(a) / n!\n",
    "\"\"\"\n",
    "PI = 3.14159265358979323846264338\n",
    "x = 1.\n",
    "exact = PI \n",
    "a = 0.0\n",
    "N = 1000\n",
    "\n",
    "\"\"\"Coefficents of the Taylor series for arctan(x) at a = 0\n",
    "# def c(n, a):\n",
    "#     if n%2 == 1:\n",
    "#         return 0\n",
    "#     elif n%4 == 2:\n",
    "#         return -1 / (n + 1)\n",
    "#     else:\n",
    "#         return 1 / (n + 1)\n",
    "\"\"\"\n",
    "c = lambda n, a: (n%2 == 0)*((-1)*(n%4 == 2) + 1.0*(n%4 == 0)) / (n + 1)\n",
    "\n",
    "#%% Main computation\n",
    "appr = np.zeros(N+1)\n",
    "for i in range(N+1):\n",
    "    appr[i] = psum(x, i, c, a)\n",
    "pi_appr = appr[::2]*4\n"
   ]
  },
  {
   "cell_type": "code",
   "execution_count": 3,
   "metadata": {},
   "outputs": [
    {
     "name": "stdout",
     "output_type": "stream",
     "text": [
      "     Taylor appr     Error\n",
      "0       4.000000 -0.858407\n",
      "1       2.666667  0.474926\n",
      "2       3.466667 -0.325074\n",
      "3       2.895238  0.246355\n",
      "4       3.339683 -0.198090\n",
      "..           ...       ...\n",
      "496     3.143605 -0.002012\n",
      "497     3.139585  0.002008\n",
      "498     3.143597 -0.002004\n",
      "499     3.139593  0.002000\n",
      "500     3.143589 -0.001996\n",
      "\n",
      "[501 rows x 2 columns]\n"
     ]
    },
    {
     "data": {
      "image/png": "[encoded data removed]",
      "text/plain": [
       "<Figure size 1000x600 with 1 Axes>"
      ]
     },
     "metadata": {},
     "output_type": "display_data"
    }
   ],
   "source": [
    "\n",
    "#%% Report\n",
    "df = pd.DataFrame({'Taylor appr': pi_appr, 'Error': exact - pi_appr})\n",
    "print(df)\n",
    "\n",
    "#%% Plot\n",
    "# (skip every k elements)\n",
    "k = 3 \n",
    "\n",
    "fig, ax = plt.subplots(figsize=(10, 6))\n",
    "ax.plot(np.arange(0, N+1, 2*k), pi_appr[::k], 'bo', mfc='none', label='Taylor approx')\n",
    "ax.axhline(y=PI, color='r', linestyle='--', lw=2, label='Exact $\\pi$')\n",
    "ax.set_xlabel('N')\n",
    "ax.set_ylabel('Approximate value of $\\pi$')\n",
    "ax.set_title('Approximating $\\pi$ using Taylor series')\n",
    "ax.legend()\n",
    "\n",
    "plt.show()"
   ]
  },
  {
   "cell_type": "markdown",
   "metadata": {},
   "source": [
    "\n",
    "### Next class \n"
   ]
  },
  {
   "cell_type": "markdown",
   "metadata": {},
   "source": [
    "\n",
    "- give radius of convergence of Taylor series\n",
    "  - by using ratio or root test,\n",
    "  - by obtain from known series.\n",
    "- find Taylor series examples around $x=a\\neq 0$,\n",
    "- more examples of Taylor series by differentiating or integrating known Taylor series."
   ]
  },
  {
   "cell_type": "markdown",
   "metadata": {},
   "source": [
    "### Appendix"
   ]
  },
  {
   "cell_type": "markdown",
   "metadata": {},
   "source": [
    "###### Power series theorem"
   ]
  },
  {
   "cell_type": "markdown",
   "metadata": {},
   "source": [
    "**Theorem** (Power series theorem)\n",
    "\n",
    "If the power series $\\sum_{n=0}^{\\infty} c_n (x-a)^{n}$ has radius of convergence $R > 0$, then the function $f$ defined by\n",
    "\n",
    "$$\n",
    "f(x)=c_0+c_1(x-a)+c_2(x-a)^2+\\cdots=\\sum_{n=0}^{\\infty} c_n(x-a)^n\n",
    "$$\n",
    "\n",
    "is differentiable, and therefore continuous, on the interval $(a-R, a+R)$ and \n",
    "\n",
    "$$\n",
    "\\begin{aligned}\n",
    "f^{\\prime}(x)&=c_1 +2 c_2(x-a)+3 c_3(x-a)^2+\\cdots=\\sum_{n=1}^{\\infty} n c_n(x-a)^{n-1} \\\\\n",
    "\\int f(x) d x & =C+c_0(x-a)+c_1 \\frac{(x-a)^2}{2}+c_2 \\frac{(x-a)^3}{3}+\\cdots \\\\\n",
    "& =C+\\sum_{n=0}^{\\infty} c_n \\frac{(x-a)^{n+1}}{n+1}.\n",
    "\\end{aligned}\n",
    "$$\n",
    "\n",
    "The radii of convergence of the power series in these equations are both $R$."
   ]
  },
  {
   "cell_type": "markdown",
   "metadata": {},
   "source": [
    "###### Analytic function"
   ]
  },
  {
   "cell_type": "markdown",
   "metadata": {},
   "source": [
    "**Remark** (Analytic functions)\n",
    "\n",
    "- Not every function has a Taylor series expansion.\n",
    "- If a function $f$ has a power series representation (i.e., Taylor series) around $x=a$ with a *nonzero* radius of convergence, the function is called *analytic*."
   ]
  },
  {
   "cell_type": "markdown",
   "metadata": {},
   "source": [
    "###### Example: Function with no Taylor expansion"
   ]
  },
  {
   "cell_type": "markdown",
   "metadata": {},
   "source": [
    "**Example** (Function with no Taylor expansion)\n",
    "\n",
    "Discuss Taylor series of $g(x)=|x|$ around $x=0$. \n",
    "\n",
    "1. Pose good questions to address.\n",
    "2. Try to give answers to those questions.\n",
    "\n",
    "Comments on this example\n",
    "- Don't worry too much about this question if *nice functions* alone make you busy enough. We want to focus on what we can do first. \n",
    "- Just keep in mind that it is very special for a function to have a Taylor seires expansion.\n",
    "\n",
    "<!-- <p style=\"color:red;\"> However, if you strive to answer this question, you will find that yourself trying something *bold* and the understanding gets deeper. </p> -->\n"
   ]
  },
  {
   "cell_type": "markdown",
   "metadata": {},
   "source": [
    "## Reorganized cells"
   ]
  },
  {
   "cell_type": "markdown",
   "metadata": {},
   "source": [
    "___"
   ]
  },
  {
   "cell_type": "markdown",
   "metadata": {},
   "source": [
    "**Example** (Taylor series using term by term differentiation)\n",
    "\n",
    "Find the Taylor series of $\\frac{1}{(1-x)^2}$ around $x=0$ by following the steps below.\n",
    "\n",
    "1. Find power series of $\\frac{1}{1-x}$ using Way 2 (Using known series). \n",
    "2. Apply the power series theorem and differentiate both sides term by term. Also, specify the radius of convergence. Recall that the radius of convergence is part of the power series theorem.\n",
    "3. Realize that $\\frac{1}{(1-x)^2}=\\frac{d}{dx} \\frac{1}{1-x}$. \n"
   ]
  },
  {
   "cell_type": "markdown",
   "metadata": {},
   "source": [
    "[Example: Finding Taylor series using Differentiation](../images/ex_Cal2_TaylorSeriesUsingDifferentation_lp2000.png)"
   ]
  },
  {
   "cell_type": "markdown",
   "metadata": {},
   "source": [
    "___"
   ]
  },
  {
   "cell_type": "markdown",
   "metadata": {},
   "source": [
    "### Radius of convergence of Taylor series 1: ratio/root test"
   ]
  },
  {
   "cell_type": "markdown",
   "metadata": {},
   "source": [
    "**Example** (Radius of convergence using ratio test)\n",
    "\n",
    "Find the radius of convergence of $f(x)=\\sin(x)$ using ratio test."
   ]
  },
  {
   "cell_type": "markdown",
   "metadata": {},
   "source": [
    "[Example: Finding radius of convergence (ratio test)](../images/ex_Cal2_RadiusConvSine_lp2000.png)"
   ]
  },
  {
   "cell_type": "markdown",
   "metadata": {},
   "source": [
    "### Radius of convergence of Taylor series 2: From known Taylor series"
   ]
  },
  {
   "cell_type": "markdown",
   "metadata": {},
   "source": [
    "**Example** (Radius of convergence using known result)\n",
    "\n",
    "We will use this method in the later examples of $1/(1+x^2)$ or $e^{-x^2}$."
   ]
  },
  {
   "cell_type": "markdown",
   "metadata": {},
   "source": [
    "___"
   ]
  }
 ],
 "metadata": {
  "kernelspec": {
   "display_name": "ptrch",
   "language": "python",
   "name": "ptrch"
  },
  "language_info": {
   "codemirror_mode": {
    "name": "ipython",
    "version": 3
   },
   "file_extension": ".py",
   "mimetype": "text/x-python",
   "name": "python",
   "nbconvert_exporter": "python",
   "pygments_lexer": "ipython3",
   "version": "3.9.1"
  }
 },
 "nbformat": 4,
 "nbformat_minor": 2
}
