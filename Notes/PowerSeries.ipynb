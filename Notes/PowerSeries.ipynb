{
 "cells": [
  {
   "cell_type": "markdown",
   "metadata": {},
   "source": [
    "## Power Series"
   ]
  },
  {
   "cell_type": "markdown",
   "metadata": {},
   "source": [
    "### Take-aways\n"
   ]
  },
  {
   "cell_type": "markdown",
   "metadata": {},
   "source": [
    "\n",
    "After studying this topic, you will be able to\n",
    "\n",
    "- explain why power series is important,\n",
    "  - give a few examples where power series is used,\n",
    "- explain important facts about power series,\n",
    "  - give several exmaple of power series,\n",
    "  - explain why it can be thought of a function,\n",
    "  - explain two different ways to see power series,\n",
    "- explain radius of convergence,"
   ]
  },
  {
   "cell_type": "markdown",
   "metadata": {},
   "source": [
    "### Big picture: function version of decimals"
   ]
  },
  {
   "cell_type": "markdown",
   "metadata": {},
   "source": [
    " **Idea**\n",
    "\n",
    "| | |\n",
    "|---|---|\n",
    "| ![portrait of Newton](https://upload.wikimedia.org/wikipedia/commons/f/f7/Portrait_of_Sir_Isaac_Newton%2C_1689_%28brightened%29.jpg) | Newton saw calculus as the algebraic analogue of arithmetic with infinite decimals, and he wrote in his Tractatus de Methodis Serierum et Fluxionum (1671; “Treatise on the Method of Series and Fluxions”): <br> <br> *I am amazed that it has occurred to no one (if you except N. Mercator and his quadrature of the hyperbola) to fit the doctrine recently established for decimal numbers to variables, especially since the way is then open to more striking consequences. For since this doctrine in species has the same relationship to Algebra that the doctrine of decimal numbers has to common Arithmetic, its operations of Addition, Subtraction, Multiplication, Division and Root extraction may be easily learnt from the latter’s.*  <br> <br> Refererence: [Britanica encyclopedia](https://www.britannica.com/topic/Newton-and-Infinite-Series-1368282) |\n",
    "| Paraphrase | \"Hey, 10-based number system works really great. Let's see functions as $x$-based system. *Any-number-based system* so to speak, huh?\" | \n",
    "\n",
    "<br> \n",
    "\n",
    "| | representation based on powers | want to know | possible |\n",
    "|---|---|---|---|\n",
    "| decimals | $$1.4142\\cdots=$$ <br> $$1\\cdot 1 + 4 \\cdot \\frac{1}{10} + 1 \\cdot (\\frac{1}{10})^2+ 4 \\cdot (\\frac{1}{10})^3 + 2 \\cdot (\\frac{1}{10})^4+\\cdots$$| $$\\sqrt{2}$$ | always |\n",
    "| functions | $$1+\\frac{1}{2} \\cdot x^2+\\frac{1 \\cdot 3}{2 \\cdot 4} \\cdot x^4+\\frac{1 \\cdot 3 \\cdot 5}{2 \\cdot 4 \\cdot 6} \\cdot x^6+\\cdots$$ <br> $$=1+0\\cdot x + \\frac{1}{2} \\cdot x^2+0\\cdot x^3 +\\frac{1 \\cdot 3}{2 \\cdot 4} \\cdot x^4 +0\\cdot x^5 +\\cdots$$ | $$\\frac{1}{\\sqrt{\\left(1-x^2\\right)}}$$| depends on $x$ <br> (radius of <br> convergence)|"
   ]
  },
  {
   "cell_type": "markdown",
   "metadata": {},
   "source": [
    "### Why do we care?\n"
   ]
  },
  {
   "cell_type": "markdown",
   "metadata": {},
   "source": [
    "\n",
    "- Power series provided the first exact formula for $\\pi$. ([Leibniz formula (Wikipedia)](https://en.wikipedia.org/wiki/Leibniz_formula_for_%CF%80) We will cover this later.)\n",
    "- Infinite sequence can be encapsulated by a generating function, which is written in the language of power series. ([Generating function of Fibonacci sequence (Wikipedia)](https://en.wikipedia.org/wiki/Fibonacci_sequence#Generating_function)) \n",
    "- Moment generating function from probability theory is written in the language of power series. ([Moment generating function (Wikipedia)](https://en.wikipedia.org/wiki/Moment-generating_function#Definition))\n",
    "- Taylor series, which is a basis of numerical analysis, is an example of power series. (We will cover this later.)"
   ]
  },
  {
   "cell_type": "markdown",
   "metadata": {},
   "source": [
    "### Power series: definition"
   ]
  },
  {
   "cell_type": "markdown",
   "metadata": {},
   "source": [
    "Recall geometric series\n",
    "\n",
    "| $$x$$ | numerical series | sum |\n",
    "|---|---|---|\n",
    "| $$\\frac 1 2$$ | $$1 + {\\frac 1 2} + ({\\frac 1 2})^2 +\\cdots$$ | 2 |\n",
    "| $$\\frac 2 3$$ | $$1 + {\\frac 2 3} + ({\\frac 2 3})^2 +\\cdots$$ | 3 |\n",
    "| $$-1 < x < 1$$ | $$1 + {x} + {x}^2 +\\cdots$$ | $$\\frac{1}{1-x}$$ |\n",
    "\n",
    "Now, make the geometric series more versatile."
   ]
  },
  {
   "cell_type": "markdown",
   "metadata": {},
   "source": [
    "> **Definition** (Power series)\n",
    ">\n",
    "> For a given sequence $\\{a_n\\}_{n=0}^\\infty$, the infinite sum\n",
    "> $$\\sum_{n=0}^\\infty a_n x^n$$\n",
    "> is called *power series*. The sequence $\\{a_n\\}_{n=0}^\\infty$ is called the *coefficients* of the series."
   ]
  },
  {
   "cell_type": "markdown",
   "metadata": {},
   "source": [
    "### Power series: examples"
   ]
  },
  {
   "cell_type": "markdown",
   "metadata": {},
   "source": [
    "> **Example**\n",
    ">\n",
    "> The geometric series is an example of power series.\n",
    "> $$1 + {x} + {x}^2 +\\cdots$$\n",
    "> \n",
    "> What are the coefficients?"
   ]
  },
  {
   "cell_type": "markdown",
   "metadata": {},
   "source": [
    "> **Example**\n",
    ">\n",
    "> The following is another example of power series.\n",
    "> $$1 + 2{x} + 3{x}^2 + \\cdots+ (n+1)x^n +\\cdots$$\n",
    "> \n",
    "> What are the coefficients?"
   ]
  },
  {
   "cell_type": "markdown",
   "metadata": {},
   "source": [
    "> **Example**\n",
    ">\n",
    "> The following is another example of power series, called Bessel function of order 0.\n",
    "> $$\\sum_{n=0}^{\\infty} \\frac{(-1)^n x^{2 n}}{2^{2 n}(n !)^2}$$\n",
    "> \n",
    "> What are the coefficients?"
   ]
  },
  {
   "cell_type": "markdown",
   "metadata": {},
   "source": [
    "> **Question**\n",
    ">\n",
    "> Give three examples of power series."
   ]
  },
  {
   "cell_type": "markdown",
   "metadata": {},
   "source": [
    "### Power series as a function"
   ]
  },
  {
   "cell_type": "markdown",
   "metadata": {},
   "source": [
    "#### Key summary"
   ]
  },
  {
   "cell_type": "markdown",
   "metadata": {},
   "source": [
    "> **Fact 1** \n",
    ">\n",
    "> A power series is a function."
   ]
  },
  {
   "cell_type": "markdown",
   "metadata": {},
   "source": [
    "#### Details"
   ]
  },
  {
   "cell_type": "markdown",
   "metadata": {},
   "source": [
    "**Approach 1 to Fact 1**\n",
    "\n",
    "- Every time you change $x$, you have a different infinite sum. --> Function."
   ]
  },
  {
   "cell_type": "markdown",
   "metadata": {},
   "source": [
    "> **Example** (Bessel function revisited)\n",
    ">\n",
    "> If it is a really a function, we can graph it.\n",
    "> $$\\sum_{n=0}^{\\infty} \\frac{(-1)^n x^{2 n}}{2^{2 n}(n !)^2}$$"
   ]
  },
  {
   "cell_type": "code",
   "execution_count": 14,
   "metadata": {},
   "outputs": [
    {
     "data": {
      "image/png": "[encoded data removed]",
      "text/plain": [
       "<Figure size 640x480 with 1 Axes>"
      ]
     },
     "metadata": {},
     "output_type": "display_data"
    },
    {
     "name": "stdout",
     "output_type": "stream",
     "text": [
      "(1000,)\n"
     ]
    }
   ],
   "source": [
    "import numpy as np\n",
    "import scipy \n",
    "import matplotlib.pyplot as plt\n",
    "plt.rcParams.update({'font.size': 16})\n",
    "\n",
    "x = np.linspace(-10, 10, 1000)  # Range of x values\n",
    "N = 20  # Number of terms\n",
    "n = np.arange(N+1)\n",
    "a_n = (-1)**n / (scipy.special.factorial(n)**2 * 2**(2*n))\n",
    "x_n = x.reshape((-1,1))**(2*n)\n",
    "\n",
    "# Calculate the Bessel function up to the 10th term\n",
    "y = x_n @ a_n\n",
    "\n",
    "# Plot the Bessel function\n",
    "plt.plot(x, y)\n",
    "plt.xlabel('x')\n",
    "plt.ylabel('Bessel Function')\n",
    "plt.title(f'Bessel Function up to {N}th term')\n",
    "plt.grid(True)\n",
    "plt.show()\n",
    "\n",
    "print(y.shape)"
   ]
  },
  {
   "cell_type": "markdown",
   "metadata": {},
   "source": [
    "### Radius of convergence\n"
   ]
  },
  {
   "cell_type": "markdown",
   "metadata": {},
   "source": [
    "#### Key summary"
   ]
  },
  {
   "cell_type": "markdown",
   "metadata": {},
   "source": [
    "- **Each power series** has a **unique radius of convergence** $R$.\n",
    "- $R$ and the center $a$ tell us **when the power series makes sense**. (interval of convergence)"
   ]
  },
  {
   "cell_type": "markdown",
   "metadata": {},
   "source": [
    "#### Details"
   ]
  },
  {
   "cell_type": "markdown",
   "metadata": {},
   "source": [
    "##### Main results"
   ]
  },
  {
   "cell_type": "markdown",
   "metadata": {},
   "source": [
    "> **Fact 2**\n",
    ">\n",
    "> To each power series $\\sum_{n=0}^\\infty c_n (x-a)^n$ is associated a number $R$, the *raduis ofconvergence*, and the only one of the following is true:\n",
    "> 1. $R=0$ \n",
    ">       - the series has finite value only when $x=a$ and diverges for all other values.\n",
    "> 1. $0 < R < \\infty$ \n",
    ">       - the series converges if $-R < x < R$,\n",
    ">       - diverges if $x > R$ or $x < -R$,\n",
    ">       - converges or diverges at $x = R$ and $x = -R$ (depends on $a_n$'s).\n",
    "> 1. $R = \\infty$ \n",
    ">       - the series converges for all $x \\in \\mathbb{R}$."
   ]
  },
  {
   "cell_type": "markdown",
   "metadata": {},
   "source": [
    "![figure: radius of convergence](../images/fig_RadiusConv.png)"
   ]
  },
  {
   "cell_type": "markdown",
   "metadata": {},
   "source": [
    "##### Examples"
   ]
  },
  {
   "cell_type": "markdown",
   "metadata": {},
   "source": [
    "###### Computation (illustrating radius of convergence)"
   ]
  },
  {
   "cell_type": "code",
   "execution_count": 1,
   "metadata": {},
   "outputs": [],
   "source": [
    "\"\"\"Growth of some 'infinite' sums\"\"\"\n",
    "\n",
    "#%% import libraries\n",
    "import numpy as np\n",
    "import scipy \n",
    "import pandas as pd\n",
    "import matplotlib.pyplot as plt\n",
    "\n",
    "# increase font size\n",
    "plt.rcParams.update({'font.size': 16})\n"
   ]
  },
  {
   "cell_type": "code",
   "execution_count": 2,
   "metadata": {},
   "outputs": [],
   "source": [
    "#%% main computation\n",
    "\n",
    "# Range of x values\n",
    "# x = np.array([-2, -1.5, -0.9, 0, 0.8, 1.4, 2])  \n",
    "x = np.linspace(-2,2,30)\n",
    "N = 300  # Number of terms\n",
    "n = np.arange(N+1)\n",
    "\n",
    "a_n = 1.0 * np.ones_like(n) # a_n = 1\n",
    "b_n = 1.0 / scipy.special.factorial(n) # b_n = 1/n!\n",
    "\n",
    "# Calculate x^n\n",
    "x_n = x.reshape((-1,1))**(n)\n",
    "\n",
    "# Calculate the partial sum up to N terms\n",
    "y = x_n @ a_n # y = sum(a_n * x^n)\n",
    "z = x_n @ b_n # z = sum(b_n * x^n)# report the results\n"
   ]
  },
  {
   "cell_type": "code",
   "execution_count": 3,
   "metadata": {},
   "outputs": [
    {
     "name": "stdout",
     "output_type": "stream",
     "text": [
      "              0     1     2     3     4     5     6     7    8    9   ...  20  \\\n",
      "x             -2    -2    -2    -2    -1    -1    -1    -1 -0.9 -0.8  ... 0.8   \n",
      "a_n = 1    1e+90 6e+80 6e+70 8e+59 1e+48 9e+34 3e+20 1e+04  0.5  0.6  ...   4   \n",
      "b_n = 1/n!   0.1   0.2   0.2   0.2   0.2   0.3   0.3   0.4  0.4  0.5  ...   2   \n",
      "\n",
      "              21    22    23    24    25    26    27    28    29  \n",
      "x            0.9     1     1     1     1     2     2     2     2  \n",
      "a_n = 1    1e+01 8e+05 4e+21 7e+35 6e+48 3e+60 2e+71 2e+81 4e+90  \n",
      "b_n = 1/n!     2     3     3     4     4     5     6     6     7  \n",
      "\n",
      "[3 rows x 30 columns]\n"
     ]
    },
    {
     "data": {
      "image/png": "[encoded data removed]",
      "text/plain": [
       "<Figure size 468x468 with 1 Axes>"
      ]
     },
     "metadata": {
      "needs_background": "light"
     },
     "output_type": "display_data"
    }
   ],
   "source": [
    "\n",
    "df = pd.DataFrame({'x': x, 'a_n = 1': y, 'b_n = 1/n!': z})\n",
    "# Set the print format of df to .2g\n",
    "pd.set_option('display.float_format', '{:.1g}'.format)\n",
    "\n",
    "# Transpose df to show the results\n",
    "print(df.transpose())\n",
    "\n",
    "# Plot\n",
    "fig, ax = plt.subplots(figsize=(6.5, 6.5))\n",
    "\n",
    "ax.plot(x, y, label=r'$\\sum_{n=0}^{N} x^n$', marker='o')    \n",
    "ax.plot(x, z, label=r'$\\sum_{n=0}^{N} \\frac{x^n}{n!}$', marker='*')    \n",
    "\n",
    "# Set labels\n",
    "ax.set_xlabel('x')    \n",
    "ax.set_ylabel('sum of power series')    \n",
    "\n",
    "# horizontal line for borderline of reasonable values: y=10\n",
    "ax.axhline(y=10, color='red', linestyle='--', label='y=10')    \n",
    "ax.set_ylim([0, 11])\n",
    "\n",
    "# Show legend\n",
    "ax.legend()\n",
    "\n",
    "# Set the title\n",
    "ax.set_title(r'$\\sum_{n=0}^{N} a_n x^n$ and $\\sum_{n=0}^{N} b_n x^n$')\n",
    "\n",
    "# Show the plot\n",
    "plt.show()"
   ]
  },
  {
   "cell_type": "markdown",
   "metadata": {},
   "source": [
    "> **Remark** (Consequence of the existence of radius of convergence)\n",
    ">\n",
    "> - If, for example, $\\sum_{n=0}^\\infty a_n 4^n$ converges, we must have $R \\ge 4$ . (Why?)\n",
    "> - If, for example, $\\sum_{n=0}^\\infty a_n (-3)^n$ diverges, we must have $R \\le 3$ . (Why?)\n",
    "\n"
   ]
  },
  {
   "cell_type": "markdown",
   "metadata": {},
   "source": [
    "> **Example** (Estimate radius of convergence from behaviors of power series)\n",
    ">\n",
    "> 1. Does $\\sum_{n=0}^\\infty x^n$ (i.e., $a_n=1$ for all $n \\ge 0$) converge at $x = 1$? (Directly check it.)\n",
    "> 1. Does $\\sum_{n=0}^\\infty x^n$ converge at $x = 0.9$? What about $x = 0.99$?\n",
    "> 1. Give a good guess on the radius of convergence of $\\sum_{n=0}^\\infty x^n$.\n",
    "> 1. Can $\\sum_{n=0}^\\infty (-0.3)^n$ diverge?\n",
    "> 1. Can $\\sum_{n=0}^\\infty x^n$ have another radius of convergence?\n"
   ]
  },
  {
   "cell_type": "markdown",
   "metadata": {},
   "source": [
    "**Example** (Behavior of power series from radius of convergence)\n",
    "\n",
    "In fact, we can show the radius of convergence of Bessel function $$\\sum_{n=0}^{\\infty} \\frac{(-1)^n x^{2 n}}{2^{2 n}(n !)^2}$$ is $R=\\infty$. (We will learn how to do it soon.)\n",
    "\n",
    "1. Can you choose a very big number, say, $x=10^{1000}$, that makes the series diverge?"
   ]
  },
  {
   "cell_type": "markdown",
   "metadata": {},
   "source": [
    "**Question**\n",
    "\n",
    "Can you come up with a power series that has 0 radius of convergence?"
   ]
  },
  {
   "cell_type": "markdown",
   "metadata": {},
   "source": [
    "**Remark** (Why radius of convergence matters?)\n",
    "\n",
    "As mentioned earlier, power series can be used for many useful tasks. However,they can be used only when they have reasonable output, i.e., when they converge."
   ]
  },
  {
   "cell_type": "markdown",
   "metadata": {},
   "source": [
    "### Term by term integration/differentiation (Power series theorem)"
   ]
  },
  {
   "cell_type": "markdown",
   "metadata": {},
   "source": [
    "#### Key summary"
   ]
  },
  {
   "cell_type": "markdown",
   "metadata": {},
   "source": [
    "- We can **differentiate or integerate** power series **term by term**.\n",
    "- The power series has **the same radius of convergence** after differentiation or integration."
   ]
  },
  {
   "cell_type": "markdown",
   "metadata": {},
   "source": [
    "#### Details\n"
   ]
  },
  {
   "cell_type": "markdown",
   "metadata": {},
   "source": [
    "\n",
    "##### Main results"
   ]
  },
  {
   "cell_type": "markdown",
   "metadata": {},
   "source": [
    "###### Power series theorem"
   ]
  },
  {
   "cell_type": "markdown",
   "metadata": {},
   "source": [
    "**Theorem** (Power series theorem)\n",
    "\n",
    "If the power series $\\sum_{n=0}^{\\infty} c_n (x-a)^{n}$ has radius of convergence $R > 0$, then the function $f$ defined by\n",
    "\n",
    "$$\n",
    "f(x)=c_0+c_1(x-a)+c_2(x-a)^2+\\cdots=\\sum_{n=0}^{\\infty} c_n(x-a)^n\n",
    "$$\n",
    "\n",
    "is differentiable, and therefore continuous, on the interval $(a-R, a+R)$ and \n",
    "\n",
    "$$\n",
    "\\begin{aligned}\n",
    "f^{\\prime}(x)&=c_1 +2 c_2(x-a)+3 c_3(x-a)^2+\\cdots=\\sum_{n=1}^{\\infty} n c_n(x-a)^{n-1} \\\\\n",
    "\\int f(x) d x & =C+c_0(x-a)+c_1 \\frac{(x-a)^2}{2}+c_2 \\frac{(x-a)^3}{3}+\\cdots \\\\\n",
    "& =C+\\sum_{n=0}^{\\infty} c_n \\frac{(x-a)^{n+1}}{n+1}.\n",
    "\\end{aligned}\n",
    "$$\n",
    "\n",
    "The radii of convergence of the power series in these equations are both $R$."
   ]
  },
  {
   "cell_type": "markdown",
   "metadata": {},
   "source": [
    "**Remark** (term by term integration and differentiation)\n",
    "\n",
    "The equations in the previous theorem can be written as interchanging differentiation/integral with summation.\n",
    "\n",
    "$$\n",
    "\\begin{aligned}\n",
    "\\frac{d}{d x}\\left[\\sum_{n=0}^{\\infty} c_n(x-a)^n\\right] &=\\sum_{n=0}^{\\infty} \\frac{d}{d x}\\left[c_n(x-a)^n\\right] \\\\\n",
    "\\int\\left[\\sum_{n=0}^{\\infty} c_n(x-a)^n\\right] d x &=\\sum_{n=0}^{\\infty} \\int c_n(x-a)^n d x\n",
    "\\end{aligned}\n",
    "$$"
   ]
  },
  {
   "cell_type": "markdown",
   "metadata": {},
   "source": [
    "##### Examples"
   ]
  },
  {
   "cell_type": "markdown",
   "metadata": {},
   "source": [
    "**Example** (Power series of $\\int \\frac{1}{1+x^2} dx$)\n",
    "\n",
    "Find the power series representation of $\\int \\frac{1}{1+x^2} dx$ by following the steps below.\n",
    "\n",
    "1. Find power series of $\\frac{1}{1+x^2}$ using geometric series. \n",
    "2. Apply the power series theorem and integrate both sides term by term. \n",
    "3. Also, specify the radius of convergence. (It can be obtained from the series in step 1.)"
   ]
  },
  {
   "cell_type": "markdown",
   "metadata": {},
   "source": [
    "### Summary\n"
   ]
  },
  {
   "cell_type": "markdown",
   "metadata": {},
   "source": [
    "#### Power series is a function"
   ]
  },
  {
   "cell_type": "markdown",
   "metadata": {},
   "source": [
    "#### Each power series has a unique radius of convergence"
   ]
  },
  {
   "cell_type": "markdown",
   "metadata": {},
   "source": [
    "#### Power series can be integrated/differentiated term by term"
   ]
  },
  {
   "cell_type": "markdown",
   "metadata": {},
   "source": [
    "**Next lecture**\n",
    "\n",
    "- How to find a power series that helps study a specific function of interest:Taylor series."
   ]
  },
  {
   "cell_type": "markdown",
   "metadata": {},
   "source": []
  }
 ],
 "metadata": {
  "kernelspec": {
   "display_name": "ptrch",
   "language": "python",
   "name": "ptrch"
  },
  "language_info": {
   "codemirror_mode": {
    "name": "ipython",
    "version": 3
   },
   "file_extension": ".py",
   "mimetype": "text/x-python",
   "name": "python",
   "nbconvert_exporter": "python",
   "pygments_lexer": "ipython3",
   "version": "3.8.13"
  }
 },
 "nbformat": 4,
 "nbformat_minor": 2
}
