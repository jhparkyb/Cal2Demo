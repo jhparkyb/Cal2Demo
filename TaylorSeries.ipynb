{
 "cells": [
  {
   "cell_type": "markdown",
   "metadata": {},
   "source": [
    "**Announcement**\n",
    "\n",
    "**Feedback**\n",
    "\n",
    "**Quick review**"
   ]
  },
  {
   "cell_type": "markdown",
   "metadata": {},
   "source": [
    "## Taylor Series"
   ]
  },
  {
   "cell_type": "markdown",
   "metadata": {},
   "source": [
    "### Take-away\n",
    "\n",
    "After this class, we will be able to\n",
    "- find Taylor series of a given function\n",
    "  - by deriving Taylor expansion,\n",
    "  - by using formula of Taylor coefficients,\n",
    "  - by directly using known Taylor series,\n",
    "  - by differentiating or integrating known Taylor series,\n",
    "- give radius of convergence of Taylor series\n",
    "  - by using ratio or root test,\n",
    "  - by using known Taylor series along with its radius of convergence."
   ]
  },
  {
   "cell_type": "markdown",
   "metadata": {},
   "source": [
    "### Why do we care?\n"
   ]
  },
  {
   "cell_type": "markdown",
   "metadata": {},
   "source": [
    "| | |\n",
    "|---|---|\n",
    "| predict behavior of complicated functions | $e^{\\sin(x)}$ or $\\frac{e^{-x^2}-1+x^2}{x^3}$ |\n",
    "| Numerical analysis | ![Forward/Backward/Centered difference quotient](https://upload.wikimedia.org/wikipedia/commons/thumb/9/90/Finite_difference_method.svg/1920px-Finite_difference_method.svg.png) |\n",
    "| Approximation in modeling | ([pendulum](https://www.acs.psu.edu/drussell/Demos/Pendulum/Pendulum.html)) ![pendulum](http://www.acs.psu.edu/drussell/Demos/Pendulum/compare-small-angle.gif) |"
   ]
  },
  {
   "cell_type": "markdown",
   "metadata": {},
   "source": [
    "### What does it take?\n",
    "\n",
    "- Open mind and patience/perseverence."
   ]
  },
  {
   "cell_type": "markdown",
   "metadata": {},
   "source": [
    "**Question**\n",
    "\n",
    "Which one would you choose to seek the sum of?\n",
    "\n",
    "$$\n",
    "\\begin{aligned}\n",
    "\\text{(A)} \\quad &\\sum_{n=0}^\\infty (-1)^n \\frac{\\pi^{2n+1}}{(2n+1)!} = \\pi - \\frac{\\pi^{3}}{3!} + \\frac{\\pi^{5}}{5!} - \\frac{\\pi^{7}}{7!}+ \\cdots \\\\\n",
    "\\text{(B)} \\quad &\\sum_{n=1}^\\infty \\frac{1}{n^3} = 1 + \\frac{1}{8} + \\frac{1}{27} + \\cdots\n",
    "\\end{aligned}\n",
    "$$"
   ]
  },
  {
   "cell_type": "markdown",
   "metadata": {},
   "source": [
    "### Big picture: power series representation of functions"
   ]
  },
  {
   "cell_type": "markdown",
   "metadata": {},
   "source": [
    " **Idea**\n",
    "\n",
    "| | |\n",
    "|---|---|\n",
    "| ![portrait of Newton](https://upload.wikimedia.org/wikipedia/commons/f/f7/Portrait_of_Sir_Isaac_Newton%2C_1689_%28brightened%29.jpg) | Newton saw calculus as the algebraic analogue of arithmetic with infinite decimals, and he wrote in his Tractatus de Methodis Serierum et Fluxionum (1671; “Treatise on the Method of Series and Fluxions”): <br> <br> *I am amazed that it has occurred to no one (if you except N. Mercator and his quadrature of the hyperbola) to fit the doctrine recently established for decimal numbers to variables, especially since the way is then open to more striking consequences. For since this doctrine in species has the same relationship to Algebra that the doctrine of decimal numbers has to common Arithmetic, its operations of Addition, Subtraction, Multiplication, Division and Root extraction may be easily learnt from the latter’s.*  <br> <br> Refererence: [Britanica encyclopedia](https://www.britannica.com/topic/Newton-and-Infinite-Series-1368282) |\n",
    "| Paraphrase | \"Hey, 10-based number system works really great. Let's see functions as $x$-based system. *Any-number-based system* so to speak, huh?\" | \n",
    "\n",
    "<br> \n",
    "\n",
    "| | representation based on powers | want to know | possible |\n",
    "|---|---|---|---|\n",
    "| decimals | $$1.4142\\cdots=$$ <br> $$1\\cdot 1 + 4 \\cdot \\frac{1}{10} + 1 \\cdot (\\frac{1}{10})^2+ 4 \\cdot (\\frac{1}{10})^3 + 2 \\cdot (\\frac{1}{10})^4+\\cdots$$| $$\\sqrt{2}$$ | always |\n",
    "| functions | $$1+\\frac{1}{2} \\cdot x^2+\\frac{1 \\cdot 3}{2 \\cdot 4} \\cdot x^4+\\frac{1 \\cdot 3 \\cdot 5}{2 \\cdot 4 \\cdot 6} \\cdot x^6+\\cdots$$ <br> $$=1+0\\cdot x + \\frac{1}{2} \\cdot x^2+0\\cdot x^3 +\\frac{1 \\cdot 3}{2 \\cdot 4} \\cdot x^4 +0\\cdot x^5 +\\cdots$$ | $$\\frac{1}{\\sqrt{\\left(1-x^2\\right)}}$$| depends on $x$ <br> summary |"
   ]
  },
  {
   "cell_type": "markdown",
   "metadata": {},
   "source": [
    "||  |  |\n",
    "|---|---|---|\n",
    "| **Power series** |series $\\longrightarrow$ function | \n",
    "| **Taylor series** | function $\\longrightarrow$ series |"
   ]
  },
  {
   "cell_type": "markdown",
   "metadata": {},
   "source": [
    "### Key summary"
   ]
  },
  {
   "cell_type": "markdown",
   "metadata": {},
   "source": [
    "**Theorem** (Taylor series)\n",
    "\n",
    "If $f$ has a power series representation (expansion) at $x=a$, that is, if\n",
    "\n",
    "$$\n",
    "f(x)=\\sum_{n=0}^{\\infty} c_n(x-a)^n \\quad|x-a|<R\n",
    "$$\n",
    "\n",
    "then its coefficients are given by the formula\n",
    "\n",
    "$$\n",
    "c_n=\\frac{f^{(n)}(a)}{n !}.\n",
    "$$"
   ]
  },
  {
   "cell_type": "markdown",
   "metadata": {},
   "source": [
    "**Definition** (Taylor series)\n",
    "\n",
    "The power series appearing in the above theorem is called *Taylor seires* of $f(x)$ around $x=a$. "
   ]
  },
  {
   "cell_type": "markdown",
   "metadata": {},
   "source": [
    "If we plug in $c_n$'s, we have another form of *Taylor series*\n",
    "\n",
    "$$\n",
    "\\begin{aligned}\n",
    "f(x) & =\\sum_{n=0}^{\\infty} \\frac{f^{(n)}(a)}{n !}(x-a)^n \\\\\n",
    "& =f(a)+\\frac{f^{\\prime}(a)}{1 !}(x-a)+\\frac{f^{\\prime \\prime}(a)}{2 !}(x-a)^2+\\frac{f^{\\prime \\prime \\prime}(a)}{3 !}(x-a)^3+\\cdots.\n",
    "\\end{aligned}\n",
    "$$"
   ]
  },
  {
   "cell_type": "markdown",
   "metadata": {},
   "source": [
    "**Terminology** (Taylor polynomial)\n",
    "\n",
    "The first few terms in the Taylor series is called *Taylor polynomial*. To be more specific, give \n",
    "\n",
    "$$\n",
    "f(x)=c_0 + c_1 (x - a) + c_2 (x - a)^2+\\cdots,\n",
    "$$ \n",
    "\n",
    "$k$-*th Taylor polynomial* or the *Taylor polynomail of order* $k$, denoted by $T_k(x)$, are\n",
    "\n",
    "$$\n",
    "\\begin{aligned}\n",
    "T_0(x) & = c_0 \\\\\n",
    "T_1(x) & = c_0 + c_1 (x - a) \\\\\n",
    "T_2(x) & = c_0 + c_1 (x - a) + c_2 (x - a)^2 \\\\\n",
    "        & \\vdots \\\\\n",
    "T_k(x) & =c_0 + c_1 (x - a) + \\cdots + c_k  (x - a)^k .\n",
    "\\end{aligned}\n",
    "$$\n"
   ]
  },
  {
   "cell_type": "markdown",
   "metadata": {},
   "source": [
    "**Terminology** (Maclaurin series)\n",
    "\n",
    "If the function $f$ is expanded around $x=0$, that is,\n",
    "\n",
    "$$\n",
    "\\begin{aligned}\n",
    "f(x)&=\\sum_{n=0}^{\\infty} \\frac{f^{(n)}(0)}{n !} x^n \\\\\n",
    "&=f(0)+\\frac{f^{\\prime}(0)}{1 !} x+\\frac{f^{\\prime \\prime}(0)}{2 !} x^2+\\cdots\n",
    "\\end{aligned}\n",
    "$$\n",
    "\n",
    "we call it *Maclaurin series*."
   ]
  },
  {
   "cell_type": "markdown",
   "metadata": {},
   "source": [
    "**Remark**\n",
    "\n",
    "- In practice, many people just say Taylor series rather than distinguish Maclaurin series very strickly."
   ]
  },
  {
   "cell_type": "markdown",
   "metadata": {},
   "source": [
    "**Remark** (Relation between power, Taylor, and Maclaurin series)\n",
    "\n",
    "![Relation between power, Taylor, and Maclaurin series](./images/diag_RelationPowerTaylorMaclaurin_lp1000.png)"
   ]
  },
  {
   "cell_type": "markdown",
   "metadata": {},
   "source": [
    "<!-- **Motivating question**: How can we figure out the right partial sums? -->"
   ]
  },
  {
   "cell_type": "markdown",
   "metadata": {},
   "source": [
    "### Topic 1: How to find Taylor series?"
   ]
  },
  {
   "cell_type": "markdown",
   "metadata": {},
   "source": [
    "#### Way 1: Basic"
   ]
  },
  {
   "cell_type": "markdown",
   "metadata": {},
   "source": [
    "**Remark**\n",
    "\n",
    "- All we need is the fact that the function can indeed be represented by a power series.\n"
   ]
  },
  {
   "cell_type": "markdown",
   "metadata": {},
   "source": [
    "##### Examples"
   ]
  },
  {
   "cell_type": "markdown",
   "metadata": {},
   "source": [
    "**Example** (Taylor series with minimal knowledge)\n",
    "\n",
    "It is known that $f(x)=e^x$ has Taylor series around any point $x=a$. Find Taylor series of $e^x$ around $x=1$."
   ]
  },
  {
   "cell_type": "markdown",
   "metadata": {},
   "source": [
    "[Example: Finding Taylor series with minimal knowledge (derivation)](./images/ex_Cal2_TaylorExpansionExpFromScratch_lp2000.png)"
   ]
  },
  {
   "cell_type": "markdown",
   "metadata": {},
   "source": [
    "**Example** (Taylor series with minimal knowledge)\n",
    "\n",
    "Use the fact that $f(x)=\\sin(x)$ has a power series representation at any point $x=a$ and Taylor series formula to find its Maclaurin series."
   ]
  },
  {
   "cell_type": "markdown",
   "metadata": {},
   "source": [
    "[Example: Finding Taylor series with minimal knowledge (formula)](./images/ex_Cal2_TaylorExpansionSineUsingFormula_lp2000.png)"
   ]
  },
  {
   "cell_type": "markdown",
   "metadata": {},
   "source": [
    "**Question**\n",
    "\n",
    "Which one would you choose to seek the sum of?\n",
    "\n",
    "$$\n",
    "\\begin{aligned}\n",
    "\\text{(A)} \\quad &\\sum_{n=0}^\\infty (-1)^n \\frac{\\pi^{2n+1}}{(2n+1)!} = \\pi - \\frac{\\pi^{3}}{3!} + \\frac{\\pi^{5}}{5!} - \\frac{\\pi^{7}}{7!}+ \\cdots \\\\\n",
    "\\text{(B)} \\quad &\\sum_{n=1}^\\infty \\frac{1}{n^3} = 1 + \\frac{1}{8} + \\frac{1}{27} + \\cdots\n",
    "\\end{aligned}\n",
    "$$"
   ]
  },
  {
   "cell_type": "markdown",
   "metadata": {},
   "source": [
    "**Question**\n",
    "\n",
    "Are the answers to the previous examples complete? \n",
    "\n",
    "> (Reminder) This is **about atmosphere**, not getting it right.\n",
    "> \n",
    "> 1. Think for a short time.\n",
    "> 2. Share your guess with your pair.\n",
    "> 4. Feel free to say out loud."
   ]
  },
  {
   "cell_type": "markdown",
   "metadata": {},
   "source": [
    "###### Partial sum code"
   ]
  },
  {
   "cell_type": "code",
   "execution_count": 2,
   "metadata": {},
   "outputs": [],
   "source": [
    "\"\"\"Growth of some 'infinite' sums\"\"\"\n",
    "\n",
    "#%% import libraries\n",
    "import numpy as np\n",
    "import scipy \n",
    "import pandas as pd\n",
    "import matplotlib.pyplot as plt\n",
    "\n",
    "# increase font size\n",
    "plt.rcParams.update({'font.size': 16})\n"
   ]
  },
  {
   "cell_type": "code",
   "execution_count": 5,
   "metadata": {},
   "outputs": [],
   "source": [
    "#%% main computation\n",
    "\n",
    "# Range of x values\n",
    "x = np.array([-2, -1.5, -0.9, 0, 0.8, 1.4, 2])  \n",
    "# x = np.linspace(-2,2,100)\n",
    "N = 300  # Number of terms\n",
    "n = np.arange(N+1)\n",
    "\n",
    "a_n = 1.0 * np.ones_like(n) # a_n = 1\n",
    "b_n = 1.0 / scipy.special.factorial(n) # b_n = 1/n!\n",
    "\n",
    "# Calculate x^n\n",
    "x_n = x.reshape((-1,1))**(n)\n",
    "\n",
    "# Calculate the partial sum up to N terms\n",
    "y = x_n @ a_n # y = sum(a_n * x^n)\n",
    "z = x_n @ b_n # z = sum(b_n * x^n)# report the results\n"
   ]
  },
  {
   "cell_type": "code",
   "execution_count": 6,
   "metadata": {},
   "outputs": [
    {
     "name": "stdout",
     "output_type": "stream",
     "text": [
      "               0     1    2  3   4     5     6\n",
      "x             -2    -2 -0.9  0 0.8     1     2\n",
      "a_n = 1    1e+90 4e+52  0.5  1   5 2e+44 4e+90\n",
      "b_n = 1/n!   0.1   0.2  0.4  1   2     4     7\n"
     ]
    },
    {
     "data": {
      "image/png": "[encoded data removed]",
      "text/plain": [
       "<Figure size 650x650 with 1 Axes>"
      ]
     },
     "metadata": {},
     "output_type": "display_data"
    }
   ],
   "source": [
    "\n",
    "df = pd.DataFrame({'x': x, 'a_n = 1': y, 'b_n = 1/n!': z})\n",
    "# Set the print format of df to .2g\n",
    "pd.set_option('display.float_format', '{:.1g}'.format)\n",
    "\n",
    "# Transpose df to show the results\n",
    "print(df.transpose())\n",
    "\n",
    "# Plot\n",
    "fig, ax = plt.subplots(figsize=(6.5, 6.5))\n",
    "\n",
    "ax.plot(x, y, label=r'$\\sum_{n=0}^{N} x^n$', marker='o')    \n",
    "ax.plot(x, z, label=r'$\\sum_{n=0}^{N} \\frac{x^n}{n!}$', marker='*')    \n",
    "\n",
    "# Set labels\n",
    "ax.set_xlabel('x')    \n",
    "ax.set_ylabel('sum of power series')    \n",
    "\n",
    "# horizontal line for borderline of reasonable values: y=10\n",
    "ax.axhline(y=10, color='red', linestyle='--', label='y=10')    \n",
    "ax.set_ylim([0, 11])\n",
    "\n",
    "# Show legend\n",
    "ax.legend()\n",
    "\n",
    "# Set the title\n",
    "ax.set_title(r'$\\sum_{n=0}^{N} a_n x^n$ and $\\sum_{n=0}^{N} b_n x^n$')\n",
    "\n",
    "# Show the plot\n",
    "plt.show()"
   ]
  },
  {
   "cell_type": "markdown",
   "metadata": {},
   "source": [
    "#### How to find what is missing?"
   ]
  },
  {
   "cell_type": "markdown",
   "metadata": {},
   "source": [
    "##### Approach 1 (radius of convergence): Convergence test"
   ]
  },
  {
   "cell_type": "markdown",
   "metadata": {},
   "source": [
    "**Example** (Radius of convergence using ratio test)\n",
    "\n",
    "Find the radius of convergence of $f(x)=\\sin(x)$ using ratio test."
   ]
  },
  {
   "cell_type": "markdown",
   "metadata": {},
   "source": [
    "[Example: Finding radius of convergence (ratio test)](./images/ex_Cal2_RadiusConvSine_lp2000.png)"
   ]
  },
  {
   "cell_type": "markdown",
   "metadata": {},
   "source": [
    "##### Approach 2 (radius of convergence): Using know radius of convergence"
   ]
  },
  {
   "cell_type": "markdown",
   "metadata": {},
   "source": [
    "**Example** (Radius of convergence using known result)\n",
    "\n",
    "We will use this method in the later examples of $1/(1+x^2)$ or $e^{-x^2}$."
   ]
  },
  {
   "cell_type": "markdown",
   "metadata": {},
   "source": [
    "**Remark** (Geometric understanding of Taylor series)\n",
    "\n",
    "![Power series as a function approximation](https://suzyahyah.github.io/assets/Calculus-taylor.png)\n",
    "\n",
    "[Interactive Geogebra by Guillermo Bautista: $e^x$](https://www.geogebra.org/m/u25naf28)\n",
    "\n",
    "<!-- [Interactive Geogebra by matheagle: $ln(1 + x^2) + sin(3x)$](https://www.geogebra.org/m/YtnuMjEF)\n",
    "\n",
    "Geogebra activity suggestion\n",
    "- Type in a simple function such as $e^x$, $1/(1-x)$, $\\sin(x)$, etc.\n",
    "- Move the slide bar to vary $n$.  -->\n",
    "\n",
    "In words,\n",
    "\n",
    "- Partial sums behave more and more similarly to the specific function, in this case $e^x$: \n",
    "    - $1$, \n",
    "    - $1+x$, \n",
    "    - $1+x+\\frac{x^2}{2!}$, \n",
    "    - $1+x+\\frac{x^2}{2!}+\\frac{x^3}{3!}$, \n",
    "    - $\\vdots$\n",
    "- We can imagine that if we add infinitely many of them, that will behave exactly the same as $e^x$.\n",
    "<!-- - A power series can be seen as a function as an (infinite) sum of functions -> a function anyway. (just like sum of lengths is again a length.) -->\n"
   ]
  },
  {
   "cell_type": "markdown",
   "metadata": {},
   "source": [
    "#### Way 2: Using known series"
   ]
  },
  {
   "cell_type": "markdown",
   "metadata": {},
   "source": [
    "**Remark** \n",
    "\n",
    "- Sometimes, we can find Taylor series quickly using known ones."
   ]
  },
  {
   "cell_type": "markdown",
   "metadata": {},
   "source": [
    "**Example** (Using known Taylor series)\n",
    "\n",
    "Find the Taylor series of the following around $x=0$ along with the radius of convergence\n",
    "\n",
    "$$\n",
    "f(x) = \\frac{1}{1+x^2}.\n",
    "$$"
   ]
  },
  {
   "cell_type": "markdown",
   "metadata": {},
   "source": [
    "[Example: Finding Taylor series using known series 1](./images/ex_Cal2_TaylorSeriesUsingKnownSeries1_lp2000.png)"
   ]
  },
  {
   "cell_type": "markdown",
   "metadata": {},
   "source": [
    "**Example** (Leveraging known Taylor series)\n",
    "\n",
    "Find the Taylor series of the following around $x=0$ along with the radius of convergence\n",
    "\n",
    "$$\n",
    "g(x) = e^{-x^2}\n",
    "$$"
   ]
  },
  {
   "cell_type": "markdown",
   "metadata": {},
   "source": [
    "[Example: Finding Taylor series using known series 2](./images/ex_Cal2_TaylorSeriesUsingKnownSeries2_lp2000.png)"
   ]
  },
  {
   "cell_type": "markdown",
   "metadata": {},
   "source": [
    "**Remark** (Wisdom)\n",
    "\n",
    "- From the geometric point of view, we see that Taylor series is a good example of reducing *wild* objects to simpler ones."
   ]
  },
  {
   "cell_type": "markdown",
   "metadata": {},
   "source": [
    "**Question** \n",
    "\n",
    "Share some other examples where we reduce complicated one to simpler ones. "
   ]
  },
  {
   "cell_type": "markdown",
   "metadata": {},
   "source": [
    "#### Way 3: Differentiating/Integrating known series"
   ]
  },
  {
   "cell_type": "markdown",
   "metadata": {},
   "source": [
    "**Remark**\n",
    "\n",
    "Recall the [power series theorem](#power-series-theorem): we can differentiate and integrate term by term."
   ]
  },
  {
   "cell_type": "markdown",
   "metadata": {},
   "source": [
    "**Example** (Taylor series using term by term differentiation)\n",
    "\n",
    "Find the Taylor series of $\\frac{1}{(1-x)^2}$ around $x=0$ by following the steps below.\n",
    "\n",
    "1. Find power series of $\\frac{1}{1-x}$ using Way 2 (Using known series). \n",
    "2. Apply the power series theorem and differentiate both sides term by term. Also, specify the radius of convergence. Recall that the radius of convergence is part of the power series theorem.\n",
    "3. Realize that $\\frac{1}{(1-x)^2}=\\frac{d}{dx} \\frac{1}{1-x}$. \n"
   ]
  },
  {
   "cell_type": "markdown",
   "metadata": {},
   "source": [
    "[Example: Finding Taylor series using Differentiation](./images/ex_Cal2_TaylorSeriesUsingDifferentation_lp2000.png)"
   ]
  },
  {
   "cell_type": "markdown",
   "metadata": {},
   "source": [
    "**Example** (Taylor series using term by term integration)\n",
    "\n",
    "Find the Maclaurin series of $\\tan^{-1}(x)$ by following the steps below.\n",
    "\n",
    "1. Find power series of $\\frac{1}{1+x^2}$ using Way 2 (Using known series). \n",
    "2. Apply the power series theorem and integrate both sides term by term. Also, specify the radius of convergence. (Recall that the radius of convergence is part of the power series theorem.)\n",
    "3. Recall $\\tan^{-1}(x) = \\int_0^x \\frac{1}{1+t^2} dt$ from integral techniques (trigonometric substitution). "
   ]
  },
  {
   "cell_type": "markdown",
   "metadata": {},
   "source": [
    "[Example: Finding Taylor series using Differentiation](./images/ex_Cal2_TaylorSeriesUsingIntegration_lp2000.png)"
   ]
  },
  {
   "cell_type": "markdown",
   "metadata": {},
   "source": [
    "##### Computation example"
   ]
  },
  {
   "cell_type": "code",
   "execution_count": 8,
   "metadata": {},
   "outputs": [
    {
     "name": "stdout",
     "output_type": "stream",
     "text": [
      "[ 1.          0.         -0.33333333  0.          0.2         0.\n",
      " -0.14285714  0.          0.11111111  0.        ]\n",
      "3.141592653589793\n",
      "     Taylor appr     Error\n",
      "0       4.000000 -0.858407\n",
      "1       2.666667  0.474926\n",
      "2       3.466667 -0.325074\n",
      "3       2.895238  0.246355\n",
      "4       3.339683 -0.198090\n",
      "..           ...       ...\n",
      "496     3.143605 -0.002012\n",
      "497     3.139585  0.002008\n",
      "498     3.143597 -0.002004\n",
      "499     3.139593  0.002000\n",
      "500     3.143589 -0.001996\n",
      "\n",
      "[501 rows x 2 columns]\n"
     ]
    },
    {
     "data": {
      "image/png": "[encoded data removed]",
      "text/plain": [
       "<Figure size 1000x600 with 1 Axes>"
      ]
     },
     "metadata": {},
     "output_type": "display_data"
    }
   ],
   "source": [
    "import numpy as np\n",
    "from scipy.special import factorial\n",
    "import matplotlib.pyplot as plt\n",
    "import pandas as pd\n",
    "\n",
    "plt.rcParams.update({'font.size': 18})\n",
    "\n",
    "def psum(x, N, c, a):\n",
    "    n = np.arange(0, N+1, dtype=np.int64)\n",
    "    cn = c(n, a)\n",
    "    xn = (x-a)**n\n",
    "    return np.sum(cn * xn)\n",
    "\n",
    "PI = 3.14159265358979323846264338\n",
    "x = 1.\n",
    "exact = PI \n",
    "a = 0.0\n",
    "N = 1000\n",
    "\n",
    "c = lambda n, a: (n%2 == 0)*((-1)*(n%4 == 2) + 1.0*(n%4 == 0)) / (n + 1)\n",
    "\n",
    "print(c(np.arange(0, 10), 0))\n",
    "print(exact)\n",
    "\n",
    "#%% Main computation\n",
    "appr = np.zeros(N+1)\n",
    "for i in range(N+1):\n",
    "    appr[i] = psum(x, i, c, a)\n",
    "pi_appr = appr[::2]*4\n",
    "\n",
    "#%% Report\n",
    "df = pd.DataFrame({'Taylor appr': pi_appr, 'Error': exact - pi_appr})\n",
    "print(df)\n",
    "\n",
    "#%% Plot\n",
    "# (skip every k elements)\n",
    "k = 3 \n",
    "\n",
    "fig, ax = plt.subplots(figsize=(10, 6))\n",
    "ax.plot(np.arange(0, N+1, 2*k), pi_appr[::k], 'bo', mfc='none')\n",
    "ax.axhline(y=PI, color='r', linestyle='--', lw=2)\n",
    "ax.set_xlabel('N')\n",
    "ax.set_ylabel('Approximate value of $\\pi$')\n",
    "ax.set_title('Approximating $\\pi$ using Taylor series')\n",
    "\n",
    "plt.show()"
   ]
  },
  {
   "cell_type": "markdown",
   "metadata": {},
   "source": [
    "### Appendix"
   ]
  },
  {
   "cell_type": "markdown",
   "metadata": {},
   "source": [
    "###### Power series theorem"
   ]
  },
  {
   "cell_type": "markdown",
   "metadata": {},
   "source": [
    "**Theorem** (Power series theorem)\n",
    "\n",
    "If the power series $\\sum_{n=0}^{\\infty} c_n (x-a)^{n}$ has radius of convergence $R > 0$, then the function $f$ defined by\n",
    "\n",
    "$$\n",
    "f(x)=c_0+c_1(x-a)+c_2(x-a)^2+\\cdots=\\sum_{n=0}^{\\infty} c_n(x-a)^n\n",
    "$$\n",
    "\n",
    "is differentiable, and therefore continuous, on the interval $(a-R, a+R)$ and \n",
    "\n",
    "$$\n",
    "\\begin{aligned}\n",
    "f^{\\prime}(x)&=c_1 +2 c_2(x-a)+3 c_3(x-a)^2+\\cdots=\\sum_{n=1}^{\\infty} n c_n(x-a)^{n-1} \\\\\n",
    "\\int f(x) d x & =C+c_0(x-a)+c_1 \\frac{(x-a)^2}{2}+c_2 \\frac{(x-a)^3}{3}+\\cdots \\\\\n",
    "& =C+\\sum_{n=0}^{\\infty} c_n \\frac{(x-a)^{n+1}}{n+1}.\n",
    "\\end{aligned}\n",
    "$$\n",
    "\n",
    "The radii of convergence of the power series in these equations are both $R$."
   ]
  },
  {
   "cell_type": "markdown",
   "metadata": {},
   "source": [
    "###### Analytic function"
   ]
  },
  {
   "cell_type": "markdown",
   "metadata": {},
   "source": [
    "**Remark** (Analytic functions)\n",
    "\n",
    "- Not every function has a Taylor series expansion.\n",
    "- If a function $f$ has a power series representation (i.e., Taylor series) around $x=a$ with a *nonzero* radius of convergence, the function is called *analytic*."
   ]
  },
  {
   "cell_type": "markdown",
   "metadata": {},
   "source": [
    "###### Example: Function with no Taylor expansion"
   ]
  },
  {
   "cell_type": "markdown",
   "metadata": {},
   "source": [
    "**Example** (Function with no Taylor expansion)\n",
    "\n",
    "Discuss Taylor series of $g(x)=|x|$ around $x=0$. \n",
    "\n",
    "1. Pose good questions to address.\n",
    "2. Try to give answers to those questions.\n",
    "\n",
    "Comments on this example\n",
    "- Don't worry too much about this question if *nice functions* alone make you busy enough. We want to focus on what we can do first. \n",
    "- Just keep in mind that it is very special for a function to have a Taylor seires expansion.\n",
    "\n",
    "<!-- <p style=\"color:red;\"> However, if you strive to answer this question, you will find that yourself trying something *bold* and the understanding gets deeper. </p> -->\n"
   ]
  }
 ],
 "metadata": {
  "kernelspec": {
   "display_name": "ptrch",
   "language": "python",
   "name": "ptrch"
  },
  "language_info": {
   "codemirror_mode": {
    "name": "ipython",
    "version": 3
   },
   "file_extension": ".py",
   "mimetype": "text/x-python",
   "name": "python",
   "nbconvert_exporter": "python",
   "pygments_lexer": "ipython3",
   "version": "3.8.13"
  }
 },
 "nbformat": 4,
 "nbformat_minor": 2
}
